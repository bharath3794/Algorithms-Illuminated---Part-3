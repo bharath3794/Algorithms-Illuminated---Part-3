{
 "cells": [
  {
   "cell_type": "markdown",
   "metadata": {},
   "source": [
    "## GreedyDiff and GreedyRatio (Programming Problems: Problem 13.4)\n",
    "Based on explanation from Pg. No. 22 (GreedyDiff and GreedyRatio), Pg. No. 23 (Quiz 13.3), Pg.No. 25 (Solution to Quiz 13.3)"
   ]
  },
  {
   "cell_type": "code",
   "execution_count": 104,
   "metadata": {},
   "outputs": [],
   "source": [
    "def knapsack(arr, cap):\n",
    "    if len(arr) == 0:\n",
    "        return [0, 0]\n",
    "    if arr[0][1] <= cap:\n",
    "        s1 = [e1+e2 for e1, e2 in zip(arr[0], knapsack(arr[1:], cap-arr[0][1]))]\n",
    "    else:\n",
    "        s1 = [0, 0]\n",
    "    s2 = knapsack(arr[1:], cap)\n",
    "    rslt = [s1, s2]\n",
    "    return max(rslt, key=lambda x: (x[0], -x[1]))\n",
    "\n",
    "lst = [[3, 4], [2, 3], [4, 2], [4, 3]]\n",
    "summation, total_size = knapsack(lst, 6)\n",
    "print(\"Maximum Summation = {}, Total Size = {}\".format(summation, total_size))\n",
    "\n",
    "lst = [[1, 3], [5, 7], [8, 2], [4, 1], [3, 7], [5, 3], [1, 1], [6, 4]]\n",
    "summation, total_size = knapsack(lst, 10)\n",
    "print(\"Maximum Summation = {}, Total Size = {}\".format(summation, total_size))def greedy_diff(jobs):\n",
    "    diff = []\n",
    "    for ele in jobs:\n",
    "        diff.append((ele[0]-ele[1], ele))\n",
    "    diff.sort(key=lambda x: (x[0], x[1][0]), reverse=True)\n",
    "    schedule = [ele[-1] for ele in diff]\n",
    "    completion_time = [schedule[0][1]]\n",
    "    weighted_sum = 0\n",
    "    for i in range(len(schedule)):\n",
    "        if i < len(schedule)-1:\n",
    "            completion_time.append(completion_time[i]+schedule[i+1][1])\n",
    "        weighted_sum += completion_time[i]*schedule[i][0]\n",
    "    return weighted_sum, schedule"
   ]
  },
  {
   "cell_type": "code",
   "execution_count": 105,
   "metadata": {
    "scrolled": true
   },
   "outputs": [
    {
     "data": {
      "text/plain": [
       "(23, [(1, 2, 'j2'), (3, 5, 'j1')])"
      ]
     },
     "execution_count": 105,
     "metadata": {},
     "output_type": "execute_result"
    }
   ],
   "source": [
    "# Example from Pg. No. 22\n",
    "# Format[(weight, length, job_name)]\n",
    "jobs = [(3, 5, 'j1'), (1, 2, 'j2')]\n",
    "greedy_diff(jobs)"
   ]
  },
  {
   "cell_type": "code",
   "execution_count": 106,
   "metadata": {},
   "outputs": [],
   "source": [
    "def greedy_ratio(jobs):\n",
    "    ratio = []\n",
    "    for ele in jobs:\n",
    "        ratio.append((ele[0]/ele[1], ele))\n",
    "    ratio.sort(key=lambda x: (x[0], x[1][0]), reverse=True)\n",
    "    schedule = [ele[-1] for ele in ratio]\n",
    "    completion_time = [schedule[0][1]]\n",
    "    weighted_sum = 0\n",
    "    for i in range(len(schedule)):\n",
    "        if i < len(schedule)-1:\n",
    "            completion_time.append(completion_time[i]+schedule[i+1][1])\n",
    "        weighted_sum += completion_time[i]*schedule[i][0]\n",
    "    return weighted_sum, schedule"
   ]
  },
  {
   "cell_type": "code",
   "execution_count": 107,
   "metadata": {},
   "outputs": [
    {
     "data": {
      "text/plain": [
       "(22, [(3, 5, 'j1'), (1, 2, 'j2')])"
      ]
     },
     "execution_count": 107,
     "metadata": {},
     "output_type": "execute_result"
    }
   ],
   "source": [
    "# Example from Pg. No. 22\n",
    "jobs = [(3, 5, 'j1'), (1, 2, 'j2')]\n",
    "greedy_ratio(jobs)"
   ]
  },
  {
   "cell_type": "markdown",
   "metadata": {},
   "source": [
    "### Convert Test Cases from [Algorithms Illuminated Website](http://www.algorithmsilluminated.org/) to usable format:\n",
    "Under Section: Test Cases and Data Sets for Programming Projects/Programming Problem 13.4: Greedy Scheduling<br><br>\n",
    "[Test Case 1 - 12 Jobs](http://www.algorithmsilluminated.org/datasets/problem13.4test.rtf)<br>\n",
    "[Test Case 2 - 10000 Jobs](http://www.algorithmsilluminated.org/datasets/problem13.4.txt)"
   ]
  },
  {
   "cell_type": "code",
   "execution_count": 118,
   "metadata": {},
   "outputs": [],
   "source": [
    "def convert_to_jobs(file_name):\n",
    "    jobs = []\n",
    "    file = open(file_name, 'r')\n",
    "    i = 1\n",
    "    for ele in file.readlines():\n",
    "        lst = ele.split(\" \")\n",
    "        if lst[1][-1:] == '\\n':\n",
    "            jobs.append((int(lst[0]), int(lst[1][:-1]), \"j{}\".format(i)))\n",
    "        else:\n",
    "            jobs.append((int(lst[0]), int(lst[1]), \"j{}\".format(i)))\n",
    "        i += 1\n",
    "    file.close()\n",
    "    return jobs"
   ]
  },
  {
   "cell_type": "code",
   "execution_count": 119,
   "metadata": {},
   "outputs": [],
   "source": [
    "# Example with 12 Jobs\n",
    "test_case1 = [(8, 50, 'j1'), (74, 59, 'j2'), (31, 73, 'j3'), (45, 79, 'j4'), (24, 10, 'j5'), (41, 66, 'j6'), (93, 43, 'j7'),\n",
    "              (88, 4, 'j8'), (28, 30, 'j9'), (41, 13, 'j10'), (4, 70, 'j11'), (10, 58, 'j12')]"
   ]
  },
  {
   "cell_type": "code",
   "execution_count": 120,
   "metadata": {},
   "outputs": [
    {
     "name": "stdout",
     "output_type": "stream",
     "text": [
      "68615\n"
     ]
    }
   ],
   "source": [
    "weighted_sum, schedule = greedy_diff(test_case1)\n",
    "print(weighted_sum)"
   ]
  },
  {
   "cell_type": "code",
   "execution_count": 121,
   "metadata": {},
   "outputs": [
    {
     "name": "stdout",
     "output_type": "stream",
     "text": [
      "67247\n"
     ]
    }
   ],
   "source": [
    "weighted_sum, schedule = greedy_ratio(test_case1)\n",
    "print(weighted_sum)"
   ]
  },
  {
   "cell_type": "code",
   "execution_count": 122,
   "metadata": {},
   "outputs": [],
   "source": [
    "# Example with 10000 Jobs\n",
    "test_case2 = convert_to_jobs('test.txt')"
   ]
  },
  {
   "cell_type": "code",
   "execution_count": 123,
   "metadata": {},
   "outputs": [
    {
     "name": "stdout",
     "output_type": "stream",
     "text": [
      "69119377652\n"
     ]
    }
   ],
   "source": [
    "weighted_sum, schedule = greedy_diff(test_case2)\n",
    "print(weighted_sum)"
   ]
  },
  {
   "cell_type": "code",
   "execution_count": 124,
   "metadata": {},
   "outputs": [
    {
     "name": "stdout",
     "output_type": "stream",
     "text": [
      "67311454237\n"
     ]
    }
   ],
   "source": [
    "weighted_sum, schedule = greedy_ratio(test_case2)\n",
    "print(weighted_sum)"
   ]
  },
  {
   "cell_type": "markdown",
   "metadata": {},
   "source": [
    "## Huffman Algorithm for finding Prefix-free binary codes (From Pg. No.49) (Using Heaps)\n",
    "### [$O(n*log(n))$]"
   ]
  },
  {
   "cell_type": "code",
   "execution_count": 2,
   "metadata": {},
   "outputs": [],
   "source": [
    "class Huffman():\n",
    "    def __init__(self, symb_freq):\n",
    "        self.hufftree = {}\n",
    "        self.code = ''\n",
    "        self.freq = []\n",
    "        self.symb_freq = symb_freq\n",
    "        self.finaltree = []\n",
    "    def huffman_algorithm(self):\n",
    "        from heapq import heappush, heappop\n",
    "        for i in range(len(self.symb_freq)):\n",
    "            ele1 = 't{}'.format(i)\n",
    "            self.hufftree[ele1] = [[self.symb_freq[i][0], ['Null', 'Null', 'Null']]]\n",
    "            self.symb_freq[i][0], self.symb_freq[i][1] = self.symb_freq[i][1], ele1\n",
    "            heappush(self.freq, self.symb_freq[i])\n",
    "        subscript = len(self.hufftree)\n",
    "        while len(self.hufftree) >= 2:\n",
    "            temp1 = heappop(self.freq)\n",
    "            temp2 = heappop(self.freq)\n",
    "            temp3 = 't{}'.format(subscript)\n",
    "            heappush(self.freq, [temp1[0]+temp2[0], temp3])\n",
    "            self.hufftree[temp3] = self.merge_trees(self.hufftree.pop(temp1[-1], None), self.hufftree.pop(temp2[-1], None))\n",
    "            subscript += 1\n",
    "        self.finaltree = self.hufftree['t{}'.format(subscript-1)]\n",
    "        self.prefix_free_codes()\n",
    "        encoded = [[item[0], item[-1]] for item in self.finaltree if item[0] != '']\n",
    "        return encoded\n",
    "    def merge_trees(self, t1, t2):\n",
    "        if len(t1) < len(t2):\n",
    "            t1, t2 = t2, t1\n",
    "        t1[0][1][0] = -1\n",
    "        for i in range(len(t1)):\n",
    "            t1[i][1][0] += 1\n",
    "            if t1[i][1][1] != 'Null':\n",
    "                t1[i][1][1] += 1\n",
    "            if t1[i][1][2] != 'Null':\n",
    "                t1[i][1][2] += 1\n",
    "        increment = len(t1)+1\n",
    "        t2[0][1][0] = -increment\n",
    "        for i in range(len(t2)):\n",
    "            t2[i][1][0] += increment\n",
    "            if t2[i][1][1] != 'Null':\n",
    "                t2[i][1][1] += increment\n",
    "            if t2[i][1][2] != 'Null':\n",
    "                t2[i][1][2] += increment\n",
    "        return [['', ['Null', 1, increment]]]+t1+t2\n",
    "    def prefix_free_codes(self, node_idx=0):\n",
    "        i = node_idx\n",
    "        left_node = self.finaltree[i][1][1]\n",
    "        right_node = self.finaltree[i][1][2]\n",
    "        if left_node == 'Null' and right_node == 'Null':\n",
    "            self.finaltree[i].append(self.code)\n",
    "            return\n",
    "        if left_node != 'Null':\n",
    "            self.code += '0'\n",
    "            self.prefix_free_codes(node_idx=left_node)\n",
    "            self.code = self.code[:-1]\n",
    "        if right_node != 'Null':\n",
    "            self.code += '1'\n",
    "            self.prefix_free_codes(node_idx=right_node)\n",
    "            self.code = self.code[:-1]\n",
    "        return"
   ]
  },
  {
   "cell_type": "code",
   "execution_count": 9,
   "metadata": {},
   "outputs": [
    {
     "data": {
      "text/plain": [
       "[['D', '000'], ['C', '001'], ['B', '01'], ['A', '1']]"
      ]
     },
     "execution_count": 9,
     "metadata": {},
     "output_type": "execute_result"
    }
   ],
   "source": [
    "# Example from Pg. No. 50\n",
    "hf = Huffman([['A', 60], ['B', 25], ['C', 10], ['D', 5]])\n",
    "hf.huffman_algorithm()"
   ]
  },
  {
   "cell_type": "code",
   "execution_count": 3,
   "metadata": {},
   "outputs": [
    {
     "data": {
      "text/plain": [
       "[['B', '0000'],\n",
       " ['E', '0001'],\n",
       " ['A', '001'],\n",
       " ['D', '01'],\n",
       " ['C', '10'],\n",
       " ['F', '11']]"
      ]
     },
     "execution_count": 3,
     "metadata": {},
     "output_type": "execute_result"
    }
   ],
   "source": [
    "# Example from Pg. No. 51\n",
    "hf = Huffman([['A', 3], ['B', 2], ['C', 6], ['D', 8], ['E', 2], ['F', 6]])\n",
    "hf.huffman_algorithm()"
   ]
  },
  {
   "cell_type": "code",
   "execution_count": 11,
   "metadata": {},
   "outputs": [
    {
     "data": {
      "text/plain": [
       "[['I', '00000'],\n",
       " ['D', '00001'],\n",
       " ['E', '0001'],\n",
       " ['B', '001'],\n",
       " ['G', '01'],\n",
       " ['A', '1000'],\n",
       " ['C', '1001'],\n",
       " ['F', '101'],\n",
       " ['H', '110'],\n",
       " ['J', '111']]"
      ]
     },
     "execution_count": 11,
     "metadata": {},
     "output_type": "execute_result"
    }
   ],
   "source": [
    "# Test Case 1: From http://www.algorithmsilluminated.org/datasets/problem14.6test1.txt\n",
    "hf = Huffman([['A', 37], ['B', 59], ['C', 43], ['D', 27], ['E', 30], ['F', 96], ['G', 96], ['H', 71], ['I', 8], ['J', 76]])\n",
    "hf.huffman_algorithm()"
   ]
  },
  {
   "cell_type": "code",
   "execution_count": 13,
   "metadata": {
    "scrolled": true
   },
   "outputs": [
    {
     "data": {
      "text/plain": [
       "[['t2', '000000'],\n",
       " ['t9', '000001'],\n",
       " ['t12', '00001'],\n",
       " ['t8', '0001'],\n",
       " ['t7', '001000'],\n",
       " ['t3', '001001'],\n",
       " ['t14', '00101'],\n",
       " ['t11', '0011'],\n",
       " ['t15', '010'],\n",
       " ['t4', '011'],\n",
       " ['t5', '1000'],\n",
       " ['t13', '1001'],\n",
       " ['t10', '101'],\n",
       " ['t6', '110'],\n",
       " ['t1', '111']]"
      ]
     },
     "execution_count": 13,
     "metadata": {},
     "output_type": "execute_result"
    }
   ],
   "source": [
    "# Test Case 2: From http://www.algorithmsilluminated.org/datasets/problem14.6test2.txt\n",
    "test2 = [895, 121, 188, 953, 378, 849, 153, 579, 144, 727, 589, 301, 442, 327, 930]\n",
    "freq = []\n",
    "for i in range(len(test2)):\n",
    "    freq.append(['t{}'.format(i+1), test2[i]])\n",
    "hf = Huffman(freq)\n",
    "hf.huffman_algorithm()"
   ]
  },
  {
   "cell_type": "code",
   "execution_count": 18,
   "metadata": {
    "scrolled": true
   },
   "outputs": [],
   "source": [
    "# Test Case 3: From http://www.algorithmsilluminated.org/datasets/problem14.6.txt\n",
    "test3 = [7540662, 6852892, 3235725, 8045172, 2667794, 2595511, 7030103, 5882478, 2731795, 8630567, 7224817, 9147454, 9180184, 4194220, 801991, 8773930, 7498447, 5429618, 1948993, 4161112, 7231836, 3512965, 6037327, 8518300, 2917342, 547194, 5015100, 837907, 341970, 6249282, 9353243, 5546257, 7031847, 9959436, 1082955, 7132656, 9863608, 2548250, 2209647, 8069760, 8572628, 9344483, 8874074, 8638786, 7812182, 4849731, 2492922, 6698031, 7404507, 745731, 8379593, 4119022, 4123053, 4401250, 5421516, 8134188, 8319394, 9611963, 3780734, 6096612, 6971484, 7377399, 6529211, 6097359, 6332343, 5781826, 279273, 5153724, 838231, 4437902, 3398506, 3432892, 2868587, 3079930, 6449351, 7063764, 9110714, 2325311, 5883213, 911693, 1779925, 8305333, 3636477, 5712230, 1858307, 9079534, 8865961, 616791, 2362911, 2935267, 3366532, 1151019, 7813585, 6552397, 3805014, 7693039, 795351, 5346031, 5699199, 5297037, 8236308, 2817584, 4715257, 4633814, 9478541, 9933557, 789849, 3943007, 2440768, 615656, 2760381, 6402258, 8117630, 3856582, 9371822, 1771427, 497228, 8502109, 1309140, 624955, 3397897, 1765229, 4908084, 2070509, 8862959, 7276642, 9603157, 4934808, 867218, 4182171, 4846509, 5474314, 8233899, 4477188, 4525386, 2335033, 8498281, 1153072, 1238992, 8093006, 4084086, 1238317, 3698397, 4122987, 4692437, 7917039, 1265714, 9334428, 5342919, 8732807, 1774206, 6290125, 6338581, 2089654, 5121265, 1999595, 1890100, 3143107, 4642901, 8447001, 5593021, 1950231, 1412270, 6420175, 3155741, 7243071, 7922116, 9639930, 5333616, 8050203, 4774305, 7342538, 7946249, 5483937, 149557, 3790204, 4238363, 8894826, 6302156, 6170563, 9363702, 8127291, 9717796, 9218081, 1484230, 1290663, 8389366, 7938443, 569344, 5534970, 1415528, 7116876, 555207, 5342809, 1536476, 8972323, 7654800, 5165404, 7464615, 8864025, 6119573, 8440544, 5171511, 5722086, 8015688, 3042471, 783373, 3741722, 8546605, 1411550, 97421, 3824354, 4139944, 1163535, 9589026, 6300149, 6915998, 8013637, 3423833, 7290262, 6211938, 8737943, 2620444, 7823630, 5881412, 4589405, 1384870, 5296634, 4196127, 8817555, 8344235, 9077367, 5865668, 9363718, 2119923, 7947765, 2032202, 9658187, 2227269, 6331838, 3996308, 5700867, 8612151, 4662268, 8746986, 466715, 5425139, 6377733, 413248, 9594800, 3646317, 7285883, 1395640, 6757438, 7333021, 2218973, 4656642, 5395580, 8923714, 6945214, 5570691, 1452406, 6348659, 760824, 6753343, 4421015, 1650139, 3373557, 5647807, 8444917, 7102932, 5289986, 8718721, 2308480, 1107383, 1346546, 249066, 6283749, 2353241, 3682949, 7522856, 8745465, 9520247, 2894009, 2259431, 6638652, 1926856, 9633791, 8893205, 3139810, 8473128, 7961171, 7768963, 8158982, 5823610, 8894456, 736307, 8201066, 7861924, 6408573, 3949582, 4684379, 4744609, 9051858, 380823, 3122478, 1573303, 5250660, 4415850, 8808519, 7080841, 192204, 2017931, 209806, 3285196, 1330242, 1153739, 6481783, 1258299, 9877021, 9055363, 4854217, 4557053, 1126316, 7347325, 7760197, 5383811, 2682978, 1819184, 6975171, 7749135, 976810, 6247739, 6290391, 3249739, 4541817, 3428099, 9421755, 8738433, 1274164, 7104303, 3656422, 9979223, 3506122, 1673754, 3161921, 2818538, 4458682, 6359261, 6426934, 782103, 3901778, 1857358, 5484908, 2875582, 3738494, 64537, 6051223, 6872740, 4765176, 7220104, 2598270, 9842137, 7214217, 5702910, 2628894, 1247848, 520157, 1206180, 8206791, 8843603, 114191, 4749339, 2625711, 9550792, 841001, 4233823, 6276651, 2664448, 7474888, 1262500, 6593317, 90939, 535912, 6627958, 3058532, 6768384, 7084346, 4800944, 4819847, 7045177, 7365650, 5997922, 5208999, 7729267, 9285990, 9354758, 2209419, 9044992, 3295737, 2530979, 2307649, 9857682, 8012943, 7029165, 2278695, 7856211, 2296287, 2603987, 5489406, 5398931, 8497844, 1846916, 8594631, 970195, 6474016, 9339029, 2951112, 9664028, 2291705, 6985762, 4740530, 4379911, 9869271, 9835332, 4806727, 5856936, 1892081, 3981651, 4930580, 9889780, 962541, 2562468, 1336459, 9593240, 4338437, 2215355, 8528391, 6434739, 4655065, 9130962, 8311268, 8211102, 3917412, 7652314, 6019016, 3368386, 3959384, 40882, 4521749, 8041559, 932248, 456813, 5746116, 6871915, 8918266, 2281631, 7707477, 1081623, 5791610, 5073444, 8189308, 3932451, 6966131, 2523371, 3237916, 8946890, 4014101, 2017252, 1608691, 166321, 1873, 6506530, 680587, 1709020, 9555716, 709728, 8716178, 5656747, 1230065, 8487375, 7166190, 4948841, 6882759, 6677256, 270695, 2600124, 886140, 3425484, 3273528, 379629, 4483866, 6416998, 7966718, 7807042, 6305964, 4966440, 3210575, 5630654, 8499854, 2207795, 4094756, 7364964, 899516, 8149244, 5225044, 7409718, 8157209, 7662259, 7760348, 9106972, 2648302, 1833054, 1359669, 9978358, 9752431, 7835150, 7039906, 4874388, 7566994, 6755902, 9602458, 7621071, 4888538, 7809809, 2417608, 7939434, 7630425, 2471915, 1991528, 2867487, 4910075, 3667457, 2041172, 6836791, 7482135, 9034598, 5676907, 107416, 9568704, 6633667, 6493718, 8509618, 2403363, 4521616, 4142717, 3825501, 5734943, 6781157, 7043308, 2714778, 2562210, 4467454, 3294809, 57802, 6843026, 616277, 3807379, 9353508, 3101183, 1360510, 8348712, 9455063, 4007404, 2990314, 4679226, 3439397, 2400452, 3794129, 2600105, 1850113, 2659662, 3127710, 849244, 1161427, 1119946, 8386556, 8696999, 5684375, 4978411, 6673706, 9201552, 8456014, 7509368, 3452778, 8664366, 8113437, 8983823, 652742, 2057013, 5920285, 8530242, 4010767, 3315346, 2524081, 651730, 341040, 9448969, 83429, 2642101, 1433786, 3649759, 555199, 5474772, 8325637, 2263107, 9288002, 2097012, 4012152, 9496180, 7599357, 3119784, 6849327, 7368417, 3918571, 5019143, 7816600, 3698908, 9386292, 506213, 1687743, 169883, 4473394, 5880820, 3370978, 8525526, 7720062, 6094764, 6975371, 9034588, 1049472, 7472233, 8616597, 1331899, 6725820, 505108, 5111362, 1803917, 3482963, 3605378, 5407258, 2625367, 1465096, 2464278, 758393, 1121696, 1968038, 6320843, 2917881, 7807840, 2199230, 2691670, 7583934, 5029628, 3055273, 5523150, 2603228, 5666836, 4305906, 7922171, 9787624, 3164901, 8298150, 3720363, 8155910, 5145168, 545323, 2847654, 3121259, 7952235, 829684, 1456967, 6839437, 7253416, 535893, 3020761, 3333465, 3851724, 7438085, 9679393, 1155576, 5070284, 6891277, 8752837, 8278436, 8723147, 5467399, 1256676, 794517, 7395024, 6524438, 6111922, 4388265, 8132181, 3389703, 8089365, 9807139, 7057278, 8063236, 7392465, 304460, 9879636, 6993002, 2860509, 810943, 8727902, 6823970, 5760205, 8982619, 1189333, 996638, 1990671, 394075, 6710898, 2970241, 4769175, 705755, 8960359, 7919966, 9844247, 4457249, 6305295, 3384562, 9311730, 3696071, 569367, 8026529, 9018656, 8786437, 2822849, 2612451, 683042, 1573997, 1246625, 4810066, 4034299, 6398176, 8102279, 6927406, 4128359, 3912623, 4172411, 1280821, 4502892, 8938413, 3101492, 4503602, 1783438, 6081576, 7492446, 6859568, 6592440, 37164, 8126217, 4756682, 7950114, 159892, 4227759, 8409663, 7049520, 9553411, 7991122, 5404616, 9273380, 5784690, 8079351, 8558865, 5545395, 9572785, 4647771, 2388923, 2925254, 3882138, 9879739, 2654229, 7803982, 1062936, 4082368, 2165077, 3042587, 9968891, 7262102, 1385141, 2525180, 8501245, 8452218, 1851594, 3527804, 8873317, 3087832, 9582323, 4555928, 5802025, 4306883, 9407054, 1531412, 6514736, 1116902, 12710, 3310966, 8556302, 715468, 6235973, 4604649, 133947, 405875, 5439070, 4206464, 5313145, 9218187, 356432, 5883301, 9827097, 6358863, 7705902, 1774454, 3446979, 247376, 7127672, 771293, 1017408, 3591569, 4932798, 5856066, 3079629, 7487083, 6682658, 5442652, 5734430, 4286579, 1614167, 9061552, 7636648, 6215627, 4503170, 9236790, 8521382, 7749368, 5247205, 1358976, 6368177, 2272567, 8007799, 8902975, 6620440, 8001611, 934209, 2180122, 192218, 8075767, 5278246, 3030695, 9357701, 1528193, 6081372, 4032029, 7152249, 8534425, 6093548, 1219060, 9407116, 931792, 3580190, 8788289, 5694987, 7424854, 3671960, 61282, 3572962, 1747121, 2258158, 4214951, 9018342, 7765611, 9706446, 2655517, 9916957, 5112225, 141897, 1339459, 440233, 3011010, 9772019, 4905242, 1109382, 1309337, 2587005, 4536352, 7702653, 7802187, 8006005, 6497708, 1386887, 1064131, 1536730, 2564491, 9911792, 7131759, 6905830, 1659776, 3987281, 2419919, 3882653, 6103143, 5164890, 3665750, 7567713, 2024175, 1350643, 7870654, 3959682, 2346297, 715503, 8053278, 3717635, 7003767, 3556415, 4226994, 5833572, 3426133, 8660808, 8566596, 6389614, 1289868, 8655532, 192227, 201512, 1618977, 5113351, 7114006, 515470, 7283473, 3171828, 4819908, 1378107, 7276455, 368071, 7156144, 3802117, 3189072, 3208861, 160666, 8888567, 3500210, 5135748, 8769878, 218073, 4917463, 5767214, 5972689, 6261982, 4140557, 732979, 9614188, 3186821, 3257410, 4564278, 70116, 1771529, 9454158, 3259365, 258498, 3601052, 636731, 6993050, 6485811, 7986006, 5499670, 1379613, 7351266, 1797443, 149350, 3009608, 3382161, 3371230, 497856, 6812480, 8250599, 4939811, 4602102, 1462877, 8447562, 1170616, 5121988, 795887, 804116, 1281873, 191692, 7386698, 5461863, 3896473, 5080401, 8044456, 4844078, 4563360, 8568320, 780907, 8850726, 8798444, 9179767]\n",
    "freq = []\n",
    "for i in range(len(test3)):\n",
    "    freq.append(['t{}'.format(i+1), test3[i]])\n",
    "hf = Huffman(freq)\n",
    "answer  = hf.huffman_algorithm()"
   ]
  },
  {
   "cell_type": "markdown",
   "metadata": {},
   "source": [
    "## Dependency - Graph Representation in Adjacency List Format (From Algorithms Illuminated Part 2)"
   ]
  },
  {
   "cell_type": "code",
   "execution_count": 3,
   "metadata": {},
   "outputs": [],
   "source": [
    "# Graph Representation in Adjacency List Format\n",
    "class Graph:\n",
    "    def __init__(self):\n",
    "        self.graph = {}\n",
    "    # You can first add vertices and then try to add edges using addEdge() method or else\n",
    "    # You can directly use addEdge() method to directly add both vertices and edges. Both works same way\n",
    "    def addVertex(self, key):\n",
    "        if key not in self.graph:\n",
    "            self.graph[key] = [{}, False]\n",
    "    # You can directly use addEdge() method to directly add both vertices and edges instead of first adding\n",
    "    # vertices and then in the next step add edges.\n",
    "    # Edge is of the format (key, neighbour, weight=optional) as a tuple or a list with [key, neighbour, weight=optional]\n",
    "    # Weight is optional. If you don't pass weight it would assign weight as None.\n",
    "    def addEdge(self, edge):\n",
    "        if len(edge) == 2:\n",
    "            val = None\n",
    "        elif len(edge) == 3:\n",
    "            val = edge[2]\n",
    "        key = edge[0]\n",
    "        neighbour = edge[1]\n",
    "        if key not in self.graph:\n",
    "            self.graph[key] = [{}, False]\n",
    "        if neighbour not in self.graph:\n",
    "            self.graph[neighbour] = [{}, False]\n",
    "        if neighbour not in self.graph[key][0]:\n",
    "                self.graph[key][0][neighbour] = val\n",
    "    # prints the graph in adjacency list format\n",
    "    def show(self):\n",
    "        print(self.graph)\n",
    "    # returns weight of the edge between the passed key and the neighbour \n",
    "    def getWeight(self, key, neighbour):\n",
    "        if key in self.graph:\n",
    "            if neighbour in self.graph[key][0]:\n",
    "                return self.graph[key][0][neighbour]\n",
    "        return None\n",
    "    # returns all the edges of the passed key as a list along with the weight of their respective edge;\n",
    "    # For ex, if key='v1' is connected to 'v2' with weight 3, and is connected to 'v3' with no weight, then \n",
    "    # getEdges('v1') returns [('v2', 3), ('v3', None)]\n",
    "    def getEdges(self, key):\n",
    "        if key not in self.graph:\n",
    "            return None\n",
    "        total = []\n",
    "        for neighbour, weight in self.graph[key][0].items():\n",
    "            total.append((neighbour, weight))\n",
    "        return total\n",
    "    # returns all the vertices of the neighbours of the passed key;\n",
    "    # For ex, if key='v1' is connected to 'v2' with weight 3, and is connected to 'v3' with no weight, then \n",
    "    # getNeighbours('v1') returns ['v2', 'v3']\n",
    "    def getNeighbours(self, key):\n",
    "        if key not in self.graph:\n",
    "            return None\n",
    "        total = []\n",
    "        for vertex in self.graph[key][0].keys():\n",
    "            total.append(vertex)\n",
    "        return total\n",
    "    # returns all the edges of the current graph;\n",
    "    # For ex, if key='v1' is connected to 'v2' with weight 3, and is connected to 'v3' with no weight, then \n",
    "    # getAllEdges() returns [('v1', v2', 3), ('v1', 'v3', None)]\n",
    "    def getAllEdges(self):\n",
    "        total = []\n",
    "        for key in self.graph.keys():\n",
    "            for neighbour, weight in self.graph[key][0].items():\n",
    "                total.append((key, neighbour, weight))\n",
    "        return total\n",
    "    # returns all the vertices of the current graph;\n",
    "    # For ex, if graph has 3 keys 'v1', 'v2', 'v3', then \n",
    "    # getAllVertices() returns ['v1', 'v2', 'v3']\n",
    "    def getAllVertices(self):\n",
    "        total = []\n",
    "        for key in self.graph.keys():\n",
    "            total.append(key)\n",
    "        return total\n",
    "    def copy(self):\n",
    "        return self.graph"
   ]
  },
  {
   "cell_type": "markdown",
   "metadata": {},
   "source": [
    "## Prim's Algorithm for finding Minimum Spanning Tree (From Page No. 72)\n",
    "### [$O(Vertices * Edges)$]\n",
    "If you're familiar with Dijkstra's Algorithm for Shortest Path Finding, Prim's Algorithm is more or less similar to it."
   ]
  },
  {
   "cell_type": "code",
   "execution_count": 41,
   "metadata": {},
   "outputs": [],
   "source": [
    "def prim_mst(graph):\n",
    "    from random import choice\n",
    "    s = choice(list(graph.keys()))\n",
    "    xSet = {s}\n",
    "    tree_edges = []\n",
    "    while len(xSet) < len(graph):\n",
    "        minCost = float('Inf')\n",
    "        minEdge = []\n",
    "        for key in xSet:\n",
    "            for neighbour in graph[key][0].keys():\n",
    "                if neighbour not in xSet:\n",
    "                    if graph[key][0][neighbour] < minCost:\n",
    "                        minEdge = [key, neighbour, graph[key][0][neighbour]]\n",
    "                        minCost = graph[key][0][neighbour]\n",
    "        xSet.add(minEdge[1])\n",
    "        tree_edges.append(minEdge)\n",
    "    return tree_edges"
   ]
  },
  {
   "cell_type": "code",
   "execution_count": 58,
   "metadata": {},
   "outputs": [
    {
     "data": {
      "text/plain": [
       "[['a', 'b', 1], ['b', 'd', 2], ['a', 'c', 4]]"
      ]
     },
     "execution_count": 58,
     "metadata": {},
     "output_type": "execute_result"
    }
   ],
   "source": [
    "# Example from Page No. 70\n",
    "edges = [('a', 'b', 1), ('b', 'a', 1), ('b', 'd', 2), ('d', 'b', 2), ('a', 'd', 3), ('d', 'a', 3), ('a', 'c', 4), ('c', 'a', 4),\n",
    "        ('c', 'd', 5), ('d', 'c', 5)]\n",
    "grph = Graph()\n",
    "for item in edges:\n",
    "    grph.addEdge(item)\n",
    "graph = grph.copy()\n",
    "\n",
    "prim_mst(graph)"
   ]
  },
  {
   "cell_type": "code",
   "execution_count": 59,
   "metadata": {},
   "outputs": [
    {
     "name": "stdout",
     "output_type": "stream",
     "text": [
      "6.12 µs ± 813 ns per loop (mean ± std. dev. of 7 runs, 100000 loops each)\n"
     ]
    }
   ],
   "source": [
    "%timeit prim_mst(graph)"
   ]
  },
  {
   "cell_type": "markdown",
   "metadata": {},
   "source": [
    "## Prim's Algorithm Using Heaps (Explanation From Pg. No. 79)\n",
    "### Based on Book: [$O((Vertices + Edges)*log(n))$]; \n",
    "### Below Implementation: [$O(Vertices*Edges*log(n))$];\n",
    "While we delete the element in Heap (see Pg. No. 79, Prim's (Heap-Based) Line 12-16), in the below code we always need to search for the element first in the heap to know its index and then we would delete that element based on the index. If we don't search for key each time deleting the key, the complexity would normally be the mentioned complexity of [𝑂((𝑉𝑒𝑟𝑡𝑖𝑐𝑒𝑠+𝐸𝑑𝑔𝑒𝑠)∗𝑙𝑜𝑔(𝑛))]. As we are searching each time when we want to delete the key, it adds up to the complexity and the complexity would be [𝑂(𝑉𝑒𝑟𝑡𝑖𝑐𝑒𝑠*𝐸𝑑𝑔𝑒𝑠∗𝑙𝑜𝑔(𝑛))]"
   ]
  },
  {
   "cell_type": "code",
   "execution_count": 54,
   "metadata": {},
   "outputs": [],
   "source": [
    "def prim_heap_based(graph):\n",
    "    from heapq import heappush, heappop\n",
    "    from random import choice\n",
    "    def heapdelete(key):\n",
    "        nonlocal heap\n",
    "        # If we don't search for key each time the complexity would normally be the above mentioned complexity of \n",
    "        # [𝑂((𝑉𝑒𝑟𝑡𝑖𝑐𝑒𝑠+𝐸𝑑𝑔𝑒𝑠)∗𝑙𝑜𝑔(𝑛))]. As we are searching each time we want to delete the key the complexity would be\n",
    "        # [𝑂(𝑉𝑒𝑟𝑡𝑖𝑐𝑒𝑠*𝐸𝑑𝑔𝑒𝑠∗𝑙𝑜𝑔(𝑛))]\n",
    "        for j in range(len(heap)):\n",
    "            if heap[j][-1] == key:\n",
    "                i = j\n",
    "                break\n",
    "        heap[i], heap[-1] = heap[-1], heap[i]\n",
    "        popped = heap.pop()\n",
    "        if i < len(heap)-1: # If the element we want to delete is last element itself, we don't need to perform below\n",
    "            if (i-1)//2 > 0 and heap[i][0] < heap[(i-1)//2][0]: # Value in Replaced Node < Parent Node: \n",
    "                # Swap Parent Node with Replaced Node (Perform operations upwards)\n",
    "                while (i-1)//2 > 0: # As Root Node is always minimum, so no need of checking with root node; So (>0 not >=0)\n",
    "                    if heap[i][0] < heap[(i-1)//2][0]:\n",
    "                        heap[i], heap[(i-1)//2] =  heap[(i-1)//2], heap[i]\n",
    "                        i = (i-1)//2\n",
    "                    else:\n",
    "                        break\n",
    "            else:\n",
    "                while True:\n",
    "                    if 2*i+2 < len(heap):\n",
    "                        smallest_child_idx = 2*i+1 if heap[2*i+1][0] < heap[2*i+2][0] else 2*i+2\n",
    "                    elif 2*i+1 < len(heap):\n",
    "                        smallest_child_idx = 2*i+1\n",
    "                    else:\n",
    "                        break\n",
    "                    if heap[i][0] > heap[smallest_child_idx][0]:\n",
    "                        heap[i], heap[smallest_child_idx] =  heap[smallest_child_idx], heap[i]\n",
    "                        i = smallest_child_idx\n",
    "                    else: # arr[i] <= arr[smallest_child_idx]\n",
    "                        break\n",
    "        return popped\n",
    "    s = choice(list(graph.keys()))\n",
    "    xSet = {s}\n",
    "    refDict = {}\n",
    "    tree_edges = []\n",
    "    heap = []\n",
    "    for key in graph.keys():\n",
    "        if key == s:\n",
    "            continue\n",
    "        for neighbour in graph[key][0].keys():\n",
    "            if neighbour == s:\n",
    "                refDict[key] = [neighbour, key, graph[key][0][neighbour]]\n",
    "                heappush(heap, [graph[neighbour][0][key], key])\n",
    "                break\n",
    "        else: # if key has no neighbour == s\n",
    "            refDict[key] = ['Null', 'Null', float('Inf')]\n",
    "            heappush(heap, [float('Inf'), key])\n",
    "    while heap:\n",
    "        w = heappop(heap)\n",
    "        xSet.add(w[-1])\n",
    "        tree_edges.append(refDict[w[-1]])\n",
    "        for neighbour in graph[w[-1]][0].keys():\n",
    "            if neighbour not in xSet and graph[w[-1]][0][neighbour] < refDict[neighbour][-1]:\n",
    "                y = heapdelete(neighbour)\n",
    "                refDict[y[-1]] = [w[-1], y[-1], graph[w[-1]][0][y[-1]]]\n",
    "                heappush(heap, [graph[w[-1]][0][y[-1]], y[-1]])\n",
    "    return tree_edges"
   ]
  },
  {
   "cell_type": "code",
   "execution_count": 60,
   "metadata": {},
   "outputs": [
    {
     "data": {
      "text/plain": [
       "[['a', 'b', 1], ['b', 'd', 2], ['a', 'c', 4]]"
      ]
     },
     "execution_count": 60,
     "metadata": {},
     "output_type": "execute_result"
    }
   ],
   "source": [
    "# Example from Page No. 70\n",
    "edges = [('a', 'b', 1), ('b', 'a', 1), ('b', 'd', 2), ('d', 'b', 2), ('a', 'd', 3), ('d', 'a', 3), ('a', 'c', 4), ('c', 'a', 4),\n",
    "        ('c', 'd', 5), ('d', 'c', 5)]\n",
    "grph = Graph()\n",
    "for item in edges:\n",
    "    grph.addEdge(item)\n",
    "graph = grph.copy()\n",
    "\n",
    "prim_heap_based(graph)"
   ]
  },
  {
   "cell_type": "code",
   "execution_count": 61,
   "metadata": {},
   "outputs": [
    {
     "name": "stdout",
     "output_type": "stream",
     "text": [
      "8.89 µs ± 672 ns per loop (mean ± std. dev. of 7 runs, 100000 loops each)\n"
     ]
    }
   ],
   "source": [
    "%timeit prim_heap_based(graph)"
   ]
  },
  {
   "cell_type": "markdown",
   "metadata": {},
   "source": [
    "## Kruskal Algorithm for finding Minimum Spanning Tree (Explanation From Pg. No. 92)\n",
    "### [$O(Vertices * Edges)$]"
   ]
  },
  {
   "cell_type": "code",
   "execution_count": 12,
   "metadata": {},
   "outputs": [],
   "source": [
    "def kruskal(edges):\n",
    "    # Based on https://www.youtube.com/watch?v=6ZRhq2oFCuo&feature=emb_logo\n",
    "    # Checks if an undirected have cycles or not; returns True if it has cycle else False\n",
    "    # Complexity = O(Vertices + Edges)\n",
    "    def isCyclic(graph, key='', parent=''):\n",
    "        from random import choice\n",
    "        if key == '':\n",
    "            key = choice(list(graph.keys()))\n",
    "            # Initially, Set each vertex in graph to unvisited (False) so that we can check the cycle\n",
    "            for item in graph.keys():\n",
    "                graph[item][-1] = False\n",
    "        if graph[key][1] == True:\n",
    "            return\n",
    "        cycle = False\n",
    "        graph[key][1] = True\n",
    "        for neighbour in graph[key][0].keys():\n",
    "    #         print(\"graph[neighbour][1]={}, neighbour={}, parent={}\".format(graph[neighbour][1], neighbour, parent))\n",
    "            if graph[neighbour][1] == True and neighbour == parent:\n",
    "                continue\n",
    "            elif graph[neighbour][1] == True and neighbour != parent:\n",
    "                cycle = True\n",
    "                break\n",
    "            else:\n",
    "    #             print(\"isCyclic({}, {})\".format(neighbour, key))\n",
    "                cycle = isCyclic(graph, neighbour, key)\n",
    "                if cycle:\n",
    "                    break\n",
    "        return cycle\n",
    "    # Add Edge to Graph\n",
    "    def addEdge(edge):\n",
    "        if len(edge) == 2:\n",
    "            val = None\n",
    "        elif len(edge) == 3:\n",
    "            val = edge[2]\n",
    "        key = edge[0]\n",
    "        neighbour = edge[1]\n",
    "        if key not in graph:\n",
    "            graph[key] = [{}, False]\n",
    "        if neighbour not in graph:\n",
    "            graph[neighbour] = [{}, False]\n",
    "        if neighbour not in graph[key][0]:\n",
    "                graph[key][0][neighbour] = val\n",
    "    # Delete Edge from Graph\n",
    "    def deleteEdge(edges):\n",
    "        for key, neighbour, _ in edges:\n",
    "            del graph[key][0][neighbour]\n",
    "    graph = {}\n",
    "    tree_edges = []\n",
    "    edges.sort(key=lambda x: x[-1])\n",
    "    newEdges = []\n",
    "    for i in range(0, len(edges), 2): # As its Undirected graph so ('a', 'b', 4), ('b', 'a', 4) represents same edge\n",
    "        if edges[i][-1] == edges[i+1][-1] and edges[i][0] == edges[i+1][1] and edges[i][1] == edges[i+1][0]:\n",
    "            newEdges.append([edges[i], edges[i+1]])\n",
    "    for i in range(len(newEdges)):\n",
    "        # Add an undirected edge to graph\n",
    "        for edge in newEdges[i]:\n",
    "            addEdge(edge)\n",
    "        if not isCyclic(graph): # If graph is acyclic i.e. there is no cycle then append\n",
    "            tree_edges.append(newEdges[i][0])\n",
    "        else: # If there is a cycle in graph, delete the undirected edge\n",
    "            deleteEdge(newEdges[i])\n",
    "    return tree_edges"
   ]
  },
  {
   "cell_type": "code",
   "execution_count": 16,
   "metadata": {},
   "outputs": [
    {
     "data": {
      "text/plain": [
       "[('b', 'e', 1), ('a', 'c', 2), ('b', 'c', 3), ('b', 'd', 5)]"
      ]
     },
     "execution_count": 16,
     "metadata": {},
     "output_type": "execute_result"
    }
   ],
   "source": [
    "# Example from Page No. 90\n",
    "edges = [('a', 'b', 4), ('b', 'a', 4), ('b', 'd', 5), ('d', 'b', 5), ('b', 'c', 3), ('c', 'b', 3), ('a', 'c', 2), ('c', 'a', 2),\n",
    "        ('c', 'd', 6), ('d', 'c', 6), ('b', 'e', 1), ('e', 'b', 1), ('e', 'd', 7), ('d', 'e', 7)]\n",
    "\n",
    "kruskal(edges)"
   ]
  },
  {
   "cell_type": "code",
   "execution_count": 15,
   "metadata": {},
   "outputs": [
    {
     "name": "stdout",
     "output_type": "stream",
     "text": [
      "52.8 µs ± 1.52 µs per loop (mean ± std. dev. of 7 runs, 10000 loops each)\n"
     ]
    }
   ],
   "source": [
    "# Example from Page No. 90\n",
    "edges = [('a', 'b', 4), ('b', 'a', 4), ('b', 'd', 5), ('d', 'b', 5), ('b', 'c', 3), ('c', 'b', 3), ('a', 'c', 2), ('c', 'a', 2),\n",
    "        ('c', 'd', 6), ('d', 'c', 6), ('b', 'e', 1), ('e', 'b', 1), ('e', 'd', 7), ('d', 'e', 7)]\n",
    "\n",
    "%timeit kruskal(edges)"
   ]
  },
  {
   "cell_type": "markdown",
   "metadata": {},
   "source": [
    "## Union-Find or Disjoint Set Data Structure Implementation\n",
    "Based on explanation from Page No. 98 to 103 and also from [Tutorial](https://opendsa-server.cs.vt.edu/ODSA/Books/Everything/html/UnionFind.html) particularly used path compression technique while implementing<br><br>\n",
    "For Complexities of these operations, refer to Pg. No. 96"
   ]
  },
  {
   "cell_type": "code",
   "execution_count": 7,
   "metadata": {},
   "outputs": [],
   "source": [
    "class Union:\n",
    "    def __init__(self):\n",
    "        self.ele_idx = {}\n",
    "        self.union_ds = []\n",
    "    def initialize(self, array):\n",
    "        for ele in array:\n",
    "            self.union_ds.append([ele, len(self.union_ds), 1])\n",
    "            self.ele_idx[ele] = len(self.union_ds)-1\n",
    "    def find(self, x):\n",
    "        idx = self.ele_idx[x]\n",
    "        while self.union_ds[idx][1] != idx:\n",
    "            idx = self.union_ds[idx][1]\n",
    "        return self.union_ds[idx][1]\n",
    "    def union(self, x, y):\n",
    "        root1_idx = self.find(x)\n",
    "        root2_idx = self.find(y)\n",
    "        if root1_idx != root2_idx:\n",
    "            if self.union_ds[root1_idx][-1] >= self.union_ds[root2_idx][-1]:\n",
    "                self.union_ds[root2_idx][1] = root1_idx\n",
    "                self.union_ds[root1_idx][-1] += self.union_ds[root2_idx][-1]\n",
    "            else:\n",
    "                self.union_ds[root1_idx][1] = root2_idx\n",
    "                self.union_ds[root2_idx][-1] += self.union_ds[root1_idx][-1]\n",
    "    def show(self):\n",
    "        print(self.union_ds)\n",
    "    def copy(self):\n",
    "        return self.union_ds"
   ]
  },
  {
   "cell_type": "code",
   "execution_count": 9,
   "metadata": {},
   "outputs": [
    {
     "name": "stdout",
     "output_type": "stream",
     "text": [
      "After Initialization\n",
      "[[1, 0, 1], [2, 1, 1], [3, 2, 1], [4, 3, 1], [5, 4, 1], [6, 5, 1]]\n",
      "\n",
      "6 is found at index 5\n",
      "\n",
      "After performing operations\n",
      "[[1, 3, 1], [2, 3, 1], [3, 3, 1], [4, 3, 6], [5, 5, 1], [6, 3, 2]]\n"
     ]
    }
   ],
   "source": [
    "uds = Union()\n",
    "\n",
    "arr = [1, 2, 3, 4, 5, 6]\n",
    "uds.initialize(arr)\n",
    "print(\"After Initialization\")\n",
    "uds.show()\n",
    "print()\n",
    "print(\"6 is found at index {}\".format(uds.find(6)))\n",
    "uds.union(4, 1)\n",
    "uds.union(1, 3)\n",
    "uds.union(1, 2)\n",
    "uds.union(6, 5)\n",
    "uds.union(5, 3)\n",
    "print()\n",
    "print(\"After performing operations\")\n",
    "uds.show()"
   ]
  },
  {
   "cell_type": "markdown",
   "metadata": {},
   "source": [
    "## Kruskal Algorithm using Union-Find Based or Disjoint-Set Data Structure (Explanation From Pg. No. 97) \n",
    "### [$O((Vertices + Edges)*log(n))$]"
   ]
  },
  {
   "cell_type": "code",
   "execution_count": 21,
   "metadata": {},
   "outputs": [],
   "source": [
    "def kruskal_union_based(edges):\n",
    "    def initialize(arr):\n",
    "        for ele in arr:\n",
    "            union_ds.append([ele, len(union_ds), 1])\n",
    "            ele_idx[ele] = len(union_ds)-1\n",
    "    def find(x):\n",
    "        idx = ele_idx[x]\n",
    "        while union_ds[idx][1] != idx:\n",
    "            idx = union_ds[idx][1]\n",
    "        return union_ds[idx][1]\n",
    "    def union(x, y):\n",
    "        root1_idx = find(x)\n",
    "        root2_idx = find(y)\n",
    "        if root1_idx != root2_idx:\n",
    "            if union_ds[root1_idx][-1] >= union_ds[root2_idx][-1]:\n",
    "                union_ds[root2_idx][1] = root1_idx\n",
    "                union_ds[root1_idx][-1] += union_ds[root2_idx][-1]\n",
    "            else:\n",
    "                union_ds[root1_idx][1] = root2_idx\n",
    "                union_ds[root2_idx][-1] += union_ds[root1_idx][-1]\n",
    "    union_ds = []\n",
    "    ele_idx = {}\n",
    "    tree_edges = []\n",
    "    vertices = set()\n",
    "    for i in range(len(edges)):\n",
    "        if edges[i][0] not in vertices:\n",
    "            vertices.add(edges[i][0])\n",
    "        if edges[i][1] not in vertices:\n",
    "            vertices.add(edges[i][1])\n",
    "    initialize(vertices)\n",
    "    edges.sort(key=lambda x: x[-1])\n",
    "    for i in range(len(edges)):\n",
    "        if find(edges[i][0]) != find(edges[i][1]):\n",
    "            tree_edges.append(edges[i])\n",
    "            union(edges[i][0], edges[i][1])\n",
    "    return tree_edges"
   ]
  },
  {
   "cell_type": "code",
   "execution_count": 22,
   "metadata": {},
   "outputs": [
    {
     "data": {
      "text/plain": [
       "[('b', 'e', 1), ('a', 'c', 2), ('b', 'c', 3), ('b', 'd', 5)]"
      ]
     },
     "execution_count": 22,
     "metadata": {},
     "output_type": "execute_result"
    }
   ],
   "source": [
    "# Example from Page No. 90\n",
    "edges = [('a', 'b', 4), ('b', 'a', 4), ('b', 'd', 5), ('d', 'b', 5), ('b', 'c', 3), ('c', 'b', 3), ('a', 'c', 2), ('c', 'a', 2),\n",
    "        ('c', 'd', 6), ('d', 'c', 6), ('b', 'e', 1), ('e', 'b', 1), ('e', 'd', 7), ('d', 'e', 7)]\n",
    "\n",
    "kruskal_union_based(edges)"
   ]
  },
  {
   "cell_type": "code",
   "execution_count": 23,
   "metadata": {},
   "outputs": [
    {
     "name": "stdout",
     "output_type": "stream",
     "text": [
      "15.5 µs ± 296 ns per loop (mean ± std. dev. of 7 runs, 100000 loops each)\n"
     ]
    }
   ],
   "source": [
    "# Example from Page No. 90\n",
    "edges = [('a', 'b', 4), ('b', 'a', 4), ('b', 'd', 5), ('d', 'b', 5), ('b', 'c', 3), ('c', 'b', 3), ('a', 'c', 2), ('c', 'a', 2),\n",
    "        ('c', 'd', 6), ('d', 'c', 6), ('b', 'e', 1), ('e', 'b', 1), ('e', 'd', 7), ('d', 'e', 7)]\n",
    "\n",
    "%timeit kruskal_union_based(edges)"
   ]
  },
  {
   "cell_type": "markdown",
   "metadata": {},
   "source": [
    "## Weighted Independent Set Problem using Naive Recursive Approach \n",
    "#### (Based on Explanation from Pg.No. 124)\n",
    "### Complexity - grows exponentially with increase in no.of vertices"
   ]
  },
  {
   "cell_type": "code",
   "execution_count": 36,
   "metadata": {},
   "outputs": [],
   "source": [
    "def wis_recursive(vertices):\n",
    "    if len(vertices) == 0:\n",
    "        return 0\n",
    "    elif len(vertices) == 1:\n",
    "        return vertices[0][1]\n",
    "    s1 = wis_recursive(vertices[:-1])\n",
    "    s2 = wis_recursive(vertices[:-2])\n",
    "    return s1 if s1>s2+vertices[-1][1] else s2+vertices[-1][1]"
   ]
  },
  {
   "cell_type": "code",
   "execution_count": 37,
   "metadata": {},
   "outputs": [
    {
     "name": "stdout",
     "output_type": "stream",
     "text": [
      "The maximum weighted independent set sum is 8\n"
     ]
    }
   ],
   "source": [
    "# Example from Pg. No. 122\n",
    "vertices = [('a', 1), ('b', 4), ('c', 5), ('d', 4)]\n",
    "maxWeight = wis_recursive(vertices)\n",
    "print(\"The maximum weighted independent set sum is\", maxWeight)"
   ]
  },
  {
   "cell_type": "code",
   "execution_count": 38,
   "metadata": {},
   "outputs": [
    {
     "name": "stdout",
     "output_type": "stream",
     "text": [
      "The maximum weighted independent set sum is 14\n"
     ]
    }
   ],
   "source": [
    "# Example from Pg. No. 131\n",
    "vertices = [('a', 3), ('b', 2), ('c', 1), ('d', 6), ('e', 4), ('f', 5)]\n",
    "maxWeight = wis_recursive(vertices)\n",
    "print(\"The maximum weighted independent set sum is\", maxWeight)"
   ]
  },
  {
   "cell_type": "markdown",
   "metadata": {},
   "source": [
    "## Weighted Independent Set Problem using Recursion with Cache \n",
    "#### Based on Explanation from Pg.No. 125 (Recursion with Cache)\n",
    "### Complexity - [$O(n)$]"
   ]
  },
  {
   "cell_type": "code",
   "execution_count": 17,
   "metadata": {},
   "outputs": [],
   "source": [
    "def wis_recursive_cache(vertices):\n",
    "    if len(vertices) == 0:\n",
    "        return 0\n",
    "    elif vertices[-1][0] in cache:\n",
    "#         print(\"Accessing cache[{}]\".format(vertices[-1][0]))\n",
    "        return cache[vertices[-1][0]]\n",
    "    elif len(vertices) == 1:\n",
    "#         print(\"Assigning cache[{}]\".format(vertices[-1][0]))\n",
    "        cache[vertices[0][0]] = vertices[0][1]\n",
    "        return vertices[0][1]\n",
    "#     print(\"wis_recursive_cache({})\".format(vertices[:-1]))\n",
    "    s1 = wis_recursive_cache(vertices[:-1])\n",
    "#     print(\"wis_recursive_cache({})\".format(vertices[:-2]))\n",
    "    s2 = wis_recursive_cache(vertices[:-2])\n",
    "#     print(\"Assigning cache[{}]\".format(vertices[-1][0]))\n",
    "    cache[vertices[-1][0]] = max(s1, s2+vertices[-1][1])\n",
    "    return cache[vertices[-1][0]]"
   ]
  },
  {
   "cell_type": "code",
   "execution_count": 18,
   "metadata": {},
   "outputs": [
    {
     "name": "stdout",
     "output_type": "stream",
     "text": [
      "cache = {'a': 1, 'b': 4, 'c': 6, 'd': 8}\n",
      "The maximum weighted independent set sum is 8\n"
     ]
    }
   ],
   "source": [
    "# Example from Pg. No. 122\n",
    "cache = {}\n",
    "vertices = [('a', 1), ('b', 4), ('c', 5), ('d', 4)]\n",
    "maxWeight = wis_recursive_cache(vertices)\n",
    "print(\"cache =\", cache)\n",
    "print(\"The maximum weighted independent set sum is\", maxWeight)"
   ]
  },
  {
   "cell_type": "code",
   "execution_count": 39,
   "metadata": {},
   "outputs": [
    {
     "name": "stdout",
     "output_type": "stream",
     "text": [
      "cache = {'a': 3, 'b': 3, 'c': 4, 'd': 9, 'e': 9, 'f': 14}\n",
      "The maximum weighted independent set sum is 14\n"
     ]
    }
   ],
   "source": [
    "# Example from Pg. No. 131\n",
    "cache = {}\n",
    "vertices = [('a', 3), ('b', 2), ('c', 1), ('d', 6), ('e', 4), ('f', 5)]\n",
    "maxWeight = wis_recursive_cache(vertices)\n",
    "print(\"cache =\", cache)\n",
    "print(\"The maximum weighted independent set sum is\", maxWeight)"
   ]
  },
  {
   "cell_type": "markdown",
   "metadata": {},
   "source": [
    "## Weighted Independent Set Problem Iterative Version\n",
    "#### Based on Explanation from Pg.No. 127\n",
    "### Complexity - [$O(n)$]"
   ]
  },
  {
   "cell_type": "code",
   "execution_count": 40,
   "metadata": {},
   "outputs": [],
   "source": [
    "def iterative_straight_forward(vertices):\n",
    "    maxWIS = [0, vertices[0][1]]\n",
    "    for i in range(len(vertices)-1):\n",
    "        maxWIS.append(max(maxWIS[i+1], maxWIS[i]+vertices[i+1][1]))\n",
    "    return maxWIS[-1]"
   ]
  },
  {
   "cell_type": "code",
   "execution_count": 41,
   "metadata": {},
   "outputs": [
    {
     "name": "stdout",
     "output_type": "stream",
     "text": [
      "The maximum weighted independent set sum is 8\n"
     ]
    }
   ],
   "source": [
    "# Example from Pg. No. 122\n",
    "vertices = [('a', 1), ('b', 4), ('c', 5), ('d', 4)]\n",
    "maxWeight = iterative_straight_forward(vertices)\n",
    "print(\"The maximum weighted independent set sum is\", maxWeight)"
   ]
  },
  {
   "cell_type": "code",
   "execution_count": 42,
   "metadata": {},
   "outputs": [
    {
     "name": "stdout",
     "output_type": "stream",
     "text": [
      "The maximum weighted independent set sum is 14\n"
     ]
    }
   ],
   "source": [
    "# Example from Pg. No. 131\n",
    "vertices = [('a', 3), ('b', 2), ('c', 1), ('d', 6), ('e', 4), ('f', 5)]\n",
    "maxWeight = iterative_straight_forward(vertices)\n",
    "print(\"The maximum weighted independent set sum is\", maxWeight)"
   ]
  },
  {
   "cell_type": "markdown",
   "metadata": {},
   "source": [
    "## WIS Reconstrution using Iterative Version (Based on Explanation from Pg.No. 130)\n",
    "### (Giving the vertices that are part of the maximum weighted independent set)\n",
    "### Complexity - [$O(n)$]"
   ]
  },
  {
   "cell_type": "code",
   "execution_count": 43,
   "metadata": {},
   "outputs": [],
   "source": [
    "def wis_with_reconstruction(vertices):\n",
    "    def iterative_straight_forward(vertices):\n",
    "        maxWIS = [0, vertices[0][1]]\n",
    "        for i in range(len(vertices)-1):\n",
    "            maxWIS.append(max(maxWIS[i+1], maxWIS[i]+vertices[i+1][1]))\n",
    "        return maxWIS\n",
    "    maxWIS = iterative_straight_forward(vertices)\n",
    "    sets = []\n",
    "    i = len(maxWIS)-1\n",
    "    while i >= 2:\n",
    "        if maxWIS[i-1] >= maxWIS[i-2]+vertices[i-1][1]:\n",
    "            i = i-1\n",
    "        else:\n",
    "            sets.append(vertices[i-1])\n",
    "            i = i-2\n",
    "    if i == 1:\n",
    "        sets.append(vertices[0])\n",
    "    return sets"
   ]
  },
  {
   "cell_type": "code",
   "execution_count": 44,
   "metadata": {},
   "outputs": [
    {
     "data": {
      "text/plain": [
       "[('d', 4), ('b', 4)]"
      ]
     },
     "execution_count": 44,
     "metadata": {},
     "output_type": "execute_result"
    }
   ],
   "source": [
    "# Example from Pg. No. 122\n",
    "vertices = [('a', 1), ('b', 4), ('c', 5), ('d', 4)]\n",
    "wis_with_reconstruction(vertices)"
   ]
  },
  {
   "cell_type": "code",
   "execution_count": 45,
   "metadata": {},
   "outputs": [
    {
     "data": {
      "text/plain": [
       "[('f', 5), ('d', 6), ('a', 3)]"
      ]
     },
     "execution_count": 45,
     "metadata": {},
     "output_type": "execute_result"
    }
   ],
   "source": [
    "# Example from Pg. No. 131\n",
    "vertices = [('a', 3), ('b', 2), ('c', 1), ('d', 6), ('e', 4), ('f', 5)]\n",
    "wis_with_reconstruction(vertices)"
   ]
  },
  {
   "cell_type": "markdown",
   "metadata": {},
   "source": [
    "## WIS Reconstrution using Recursive Version with Cache \n",
    "### (Giving the vertices that are part of the maximum weighted independent set)\n",
    "#### (Based on Explanation from Pg.No. 130)\n",
    "### Complexity - [$O(n)$]"
   ]
  },
  {
   "cell_type": "code",
   "execution_count": 34,
   "metadata": {},
   "outputs": [],
   "source": [
    "def wis_reconstruction_rec_cache(vertices):\n",
    "    def wis_recursive_cache(vertices):\n",
    "        if len(vertices) == 0:\n",
    "            return 0\n",
    "        elif vertices[-1][0] in cache:\n",
    "            return cache[vertices[-1][0]]\n",
    "        elif len(vertices) == 1:\n",
    "            cache[vertices[0][0]] = vertices[0][1]\n",
    "            return vertices[0][1]\n",
    "        s1 = wis_recursive_cache(vertices[:-1])\n",
    "        s2 = wis_recursive_cache(vertices[:-2])\n",
    "        cache[vertices[-1][0]] = max(s1, s2+vertices[-1][1])\n",
    "        return cache[vertices[-1][0]]\n",
    "    cache = {}\n",
    "    _ = wis_recursive_cache(vertices)\n",
    "    maxWIS = [0]\n",
    "    for i in range(len(vertices)):\n",
    "        maxWIS.append(cache[vertices[i][0]])\n",
    "    sets = []\n",
    "    i = len(maxWIS)-1\n",
    "    while i >= 2:\n",
    "        if maxWIS[i-1] >= maxWIS[i-2]+vertices[i-1][1]:\n",
    "            i = i-1\n",
    "        else:\n",
    "            sets.append(vertices[i-1])\n",
    "            i = i-2\n",
    "    if i == 1:\n",
    "        sets.append(vertices[0])\n",
    "    return sets"
   ]
  },
  {
   "cell_type": "code",
   "execution_count": 35,
   "metadata": {},
   "outputs": [
    {
     "data": {
      "text/plain": [
       "[('d', 4), ('b', 4)]"
      ]
     },
     "execution_count": 35,
     "metadata": {},
     "output_type": "execute_result"
    }
   ],
   "source": [
    "# Example from Pg. No. 122\n",
    "vertices = [('a', 1), ('b', 4), ('c', 5), ('d', 4)]\n",
    "wis_reconstruction_rec_cache(vertices)"
   ]
  },
  {
   "cell_type": "code",
   "execution_count": 46,
   "metadata": {},
   "outputs": [
    {
     "data": {
      "text/plain": [
       "[('f', 5), ('d', 6), ('a', 3)]"
      ]
     },
     "execution_count": 46,
     "metadata": {},
     "output_type": "execute_result"
    }
   ],
   "source": [
    "# Example from Pg. No. 131\n",
    "vertices = [('a', 3), ('b', 2), ('c', 1), ('d', 6), ('e', 4), ('f', 5)]\n",
    "wis_reconstruction_rec_cache(vertices)"
   ]
  },
  {
   "cell_type": "markdown",
   "metadata": {},
   "source": [
    "## Knapsack Problem Naive Recursive Approach (Own Implementation)\n",
    "### Complexity - grows exponentially with increase in no.of vertices"
   ]
  },
  {
   "cell_type": "code",
   "execution_count": 54,
   "metadata": {},
   "outputs": [],
   "source": [
    "def knapsack(arr, cap):\n",
    "    if len(arr) == 0:\n",
    "        return [0, 0]\n",
    "    if arr[0][1] <= cap:\n",
    "        s1 = [e1+e2 for e1, e2 in zip(arr[0], knapsack(arr[1:], cap-arr[0][1]))]\n",
    "    else:\n",
    "        s1 = [0, 0]\n",
    "    s2 = knapsack(arr[1:], cap)\n",
    "    rslt = [s1, s2]\n",
    "    return max(rslt, key=lambda x: (x[0], -x[1]))"
   ]
  },
  {
   "cell_type": "code",
   "execution_count": 55,
   "metadata": {
    "scrolled": true
   },
   "outputs": [
    {
     "name": "stdout",
     "output_type": "stream",
     "text": [
      "Maximum Summation = 8, Total Size = 5\n"
     ]
    }
   ],
   "source": [
    "# Example from Pg. No. 137\n",
    "lst = [[3, 4], [2, 3], [4, 2], [4, 3]]\n",
    "summation, total_size = knapsack(lst, 6)\n",
    "print(\"Maximum Summation = {}, Total Size = {}\".format(summation, total_size))"
   ]
  },
  {
   "cell_type": "code",
   "execution_count": 56,
   "metadata": {},
   "outputs": [
    {
     "name": "stdout",
     "output_type": "stream",
     "text": [
      "Maximum Summation = 23, Total Size = 10\n"
     ]
    }
   ],
   "source": [
    "# Own Example\n",
    "lst = [[1, 3], [5, 7], [8, 2], [4, 1], [3, 7], [5, 3], [1, 1], [6, 4]]\n",
    "summation, total_size = knapsack(lst, 10)\n",
    "print(\"Maximum Summation = {}, Total Size = {}\".format(summation, total_size))"
   ]
  },
  {
   "cell_type": "markdown",
   "metadata": {},
   "source": [
    "## Knapsack Problem Recursive Version with Cache as Dict (Own Implementation)\n",
    "### Complexity - [$O(n * C)$] approximately (n: No.of Values, C: Knapsack Capacity)"
   ]
  },
  {
   "cell_type": "code",
   "execution_count": 57,
   "metadata": {},
   "outputs": [],
   "source": [
    "def knapsack_cache(arr, cap):\n",
    "    if len(arr) == 0:\n",
    "        return [0, 0]\n",
    "    key = \"{}{}{}\".format(arr[0][0], arr[0][1], cap)\n",
    "    if key in cache:\n",
    "#         print(\"Accessing Cache\")\n",
    "        return cache[key]\n",
    "    if arr[0][1] <= cap:\n",
    "        s1 = [e1+e2 for e1, e2 in zip(arr[0], knapsack_cache(arr[1:], cap-arr[0][1]))]\n",
    "        s2 = knapsack_cache(arr[1:], cap)\n",
    "        rslt = [s1, s2]\n",
    "        cache[key] = max(rslt, key=lambda x: (x[0], -x[1]))\n",
    "    else:\n",
    "        rslt = knapsack_cache(arr[1:], cap)\n",
    "        cache[key] = rslt\n",
    "#     print(\"Assigning cache\")\n",
    "    return cache[key]"
   ]
  },
  {
   "cell_type": "code",
   "execution_count": 58,
   "metadata": {
    "scrolled": true
   },
   "outputs": [
    {
     "name": "stdout",
     "output_type": "stream",
     "text": [
      "Maximum Summation = 8, Total Size = 5\n"
     ]
    }
   ],
   "source": [
    "# Example from Pg. No. 137\n",
    "cache = {}\n",
    "lst = [[3, 4], [2, 3], [4, 2], [4, 3]]\n",
    "summation, total_size = knapsack_cache(lst, 6)\n",
    "print(\"Maximum Summation = {}, Total Size = {}\".format(summation, total_size))"
   ]
  },
  {
   "cell_type": "code",
   "execution_count": 59,
   "metadata": {},
   "outputs": [
    {
     "name": "stdout",
     "output_type": "stream",
     "text": [
      "Maximum Summation = 23, Total Size = 10\n"
     ]
    }
   ],
   "source": [
    "# Own Example\n",
    "lst = [[1, 3], [5, 7], [8, 2], [4, 1], [3, 7], [5, 3], [1, 1], [6, 4]]\n",
    "summation, total_size = knapsack_cache(lst, 10)\n",
    "print(\"Maximum Summation = {}, Total Size = {}\".format(summation, total_size))"
   ]
  },
  {
   "cell_type": "markdown",
   "metadata": {},
   "source": [
    "## Knapsack Problem Iterative Version (Based on Explanation from Pg. No. 141)\n",
    "### Complexity - [$O(n * C)$] (n: No.of Values, C: Knapsack Capacity)"
   ]
  },
  {
   "cell_type": "code",
   "execution_count": 30,
   "metadata": {},
   "outputs": [],
   "source": [
    "def knapsack_iterative(arr, cap):\n",
    "    cache = [[0 for i in range(cap+1)]]\n",
    "    for i in range(1, len(arr)+1, 1):\n",
    "        cache.append([])\n",
    "        for j in range(cap+1):\n",
    "            if arr[i-1][1] > j:\n",
    "                cache[i].append(cache[i-1][j])\n",
    "            else:\n",
    "                cache[i].append(max(cache[i-1][j], cache[i-1][j-arr[i-1][1]]+arr[i-1][0]))\n",
    "    return cache[-1][cap]"
   ]
  },
  {
   "cell_type": "code",
   "execution_count": 61,
   "metadata": {},
   "outputs": [
    {
     "data": {
      "text/plain": [
       "8"
      ]
     },
     "execution_count": 61,
     "metadata": {},
     "output_type": "execute_result"
    }
   ],
   "source": [
    "# Example from Pg. No. 137\n",
    "lst = [[3, 4], [2, 3], [4, 2], [4, 3]]\n",
    "knapsack_iterative(lst, 6)"
   ]
  },
  {
   "cell_type": "code",
   "execution_count": 31,
   "metadata": {},
   "outputs": [
    {
     "data": {
      "text/plain": [
       "23"
      ]
     },
     "execution_count": 31,
     "metadata": {},
     "output_type": "execute_result"
    }
   ],
   "source": [
    "# Own Example\n",
    "lst = [[1, 3], [5, 7], [8, 2], [4, 1], [3, 7], [5, 3], [1, 1], [6, 4]]\n",
    "knapsack_iterative(lst, 10)"
   ]
  },
  {
   "cell_type": "markdown",
   "metadata": {},
   "source": [
    "## Knapsack Problem Recursive Version of Cache using 2D array \n",
    "#### (Similar to above iterative version implementation of cache with 2D Array)\n",
    "### Complexity - [$O(n * C)$] (n: No.of Values, C: Knapsack Capacity)"
   ]
  },
  {
   "cell_type": "code",
   "execution_count": 47,
   "metadata": {},
   "outputs": [],
   "source": [
    "def knapsack_cache_2d(arr, cap):\n",
    "    if len(arr) == 0:\n",
    "        return 0\n",
    "    if cache[len(arr)][cap] != -1:\n",
    "#         print(\"Accessing Cache\")\n",
    "        return cache[len(arr)][cap]\n",
    "    if arr[0][1] <= cap:\n",
    "        s1 = arr[0][0]+knapsack_cache_2d(arr[1:], cap-arr[0][1])\n",
    "        s2 = knapsack_cache_2d(arr[1:], cap)\n",
    "#         print(\"Assigning cache\")\n",
    "        cache[len(arr)][cap] = max(s1, s2)\n",
    "    else:\n",
    "        rslt = knapsack_cache_2d(arr[1:], cap)\n",
    "#         print(\"Assigning cache\")\n",
    "        cache[len(arr)][cap] = rslt\n",
    "    return cache[len(arr)][cap]"
   ]
  },
  {
   "cell_type": "code",
   "execution_count": 48,
   "metadata": {},
   "outputs": [
    {
     "name": "stdout",
     "output_type": "stream",
     "text": [
      "Maximum Summation = 8\n"
     ]
    }
   ],
   "source": [
    "# Example from Pg. No. 137\n",
    "lst = [[3, 4], [2, 3], [4, 2], [4, 3]]\n",
    "cap = 6\n",
    "cache = [[0 for j in range(cap+1)]]\n",
    "for i in range(1, len(lst)+1, 1):\n",
    "    cache.append([-1 for j in range(cap+1)])\n",
    "summation = knapsack_cache_2d(lst, cap)\n",
    "print(\"Maximum Summation = {}\".format(summation))"
   ]
  },
  {
   "cell_type": "code",
   "execution_count": 49,
   "metadata": {},
   "outputs": [
    {
     "name": "stdout",
     "output_type": "stream",
     "text": [
      "Maximum Summation = 23\n"
     ]
    }
   ],
   "source": [
    "# Own Example\n",
    "lst = [[1, 3], [5, 7], [8, 2], [4, 1], [3, 7], [5, 3], [1, 1], [6, 4]]\n",
    "cap = 10\n",
    "cache = [[0 for j in range(cap+1)]]\n",
    "for i in range(1, len(lst)+1, 1):\n",
    "    cache.append([-1 for j in range(cap+1)])\n",
    "summation = knapsack_cache_2d(lst, cap)\n",
    "print(\"Maximum Summation = {}\".format(summation))"
   ]
  },
  {
   "cell_type": "code",
   "execution_count": 21,
   "metadata": {},
   "outputs": [],
   "source": [
    "# Test Case from http://www.algorithmsilluminated.org/datasets/problem16.7test.txt\n",
    "testcase = [[16808, 250], [50074, 659], [8931, 273], [27545, 879], [77924, 710], [64441, 166], [84493, 43], [7988, 504], \n",
    "            [82328, 730], [78841, 613], [44304, 170], [17710, 158], [29561, 934], [93100, 279], [51817, 336], [99098, 827], \n",
    "            [13513, 268], [23811, 634], [80980, 150], [36580, 822], [11968, 673], [1394, 337], [25486, 746], [25229, 92], \n",
    "            [40195, 358], [35002, 154], [16709, 945], [15669, 491], [88125, 197], [9531, 904], [27723, 667], [28550, 25], \n",
    "            [97802, 854], [40978, 409], [8229, 934], [60299, 982], [28636, 14], [23866, 815], [39064, 537], [39426, 670], \n",
    "            [24116, 95], [75630, 502], [46518, 196], [30106, 405], [19452, 299], [82189, 124], [99506, 883], [6753, 567], \n",
    "            [36717, 338], [54439, 145], [51502, 898], [83872, 829], [11138, 359], [53178, 398], [22295, 905], [21610, 232], \n",
    "            [59746, 176], [53636, 299], [98143, 400], [27969, 413], [261, 558], [41595, 9], [16396, 969], [19114, 531], \n",
    "            [71007, 963], [97943, 366], [42083, 853], [30768, 822], [85696, 713], [73672, 902], [48591, 832], [14739, 58], \n",
    "            [31617, 791], [55641, 680], [37336, 7], [97973, 99], [49096, 320], [83455, 224], [12290, 761], [48906, 127], \n",
    "            [36124, 507], [45814, 771], [35239, 95], [96221, 845], [12367, 535], [25227, 395], [41364, 739], [7845, 591], \n",
    "            [36551, 160], [8624, 948], [97386, 218], [95273, 540], [99248, 386], [13497, 886], [40624, 421], [28145, 969], \n",
    "            [35736, 916], [61626, 535], [46043, 12], [54680, 153]]"
   ]
  },
  {
   "cell_type": "code",
   "execution_count": 67,
   "metadata": {},
   "outputs": [
    {
     "name": "stdout",
     "output_type": "stream",
     "text": [
      "Maximum Summation = 2493893, Total Size = 9976\n",
      "Time Taken = 2.7444764000028954 Seconds\n"
     ]
    }
   ],
   "source": [
    "# Based on Recursive Version with Cache as Dict\n",
    "import time\n",
    "start = time.perf_counter()\n",
    "cache = {}\n",
    "summation, total_size = knapsack_cache(testcase, 10000)\n",
    "print(\"Maximum Summation = {}, Total Size = {}\".format(summation, total_size))\n",
    "print(\"Time Taken = {} Seconds\".format(time.perf_counter()-start))"
   ]
  },
  {
   "cell_type": "code",
   "execution_count": 68,
   "metadata": {},
   "outputs": [
    {
     "name": "stdout",
     "output_type": "stream",
     "text": [
      "Maximum Summation = 2493893\n",
      "Time Taken = 0.48468759999377653 Seconds\n"
     ]
    }
   ],
   "source": [
    "# Based on Iterative Version\n",
    "import time\n",
    "start = time.perf_counter()\n",
    "summation = knapsack_iterative(testcase, 10000)\n",
    "print(\"Maximum Summation = {}\".format(summation))\n",
    "print(\"Time Taken = {} Seconds\".format(time.perf_counter()-start))"
   ]
  },
  {
   "cell_type": "code",
   "execution_count": 50,
   "metadata": {},
   "outputs": [
    {
     "name": "stdout",
     "output_type": "stream",
     "text": [
      "Maximum Summation = 2493893\n",
      "Time Taken = 1.090791899994656 Seconds\n"
     ]
    }
   ],
   "source": [
    "# Based on Recursive Version of Cache with 2D Array\n",
    "import time\n",
    "start = time.perf_counter()\n",
    "cap = 10000\n",
    "cache = [[0 for j in range(cap+1)]]\n",
    "for i in range(1, len(testcase)+1, 1):\n",
    "    cache.append([-1 for j in range(cap+1)])\n",
    "summation = knapsack_cache_2d(testcase, 10000)\n",
    "print(\"Maximum Summation = {}\".format(summation))\n",
    "print(\"Time Taken = {} Seconds\".format(time.perf_counter()-start))"
   ]
  },
  {
   "cell_type": "markdown",
   "metadata": {},
   "source": [
    "## Knapsack Reconstruction (Own Implementation + Explanantion from Pg. No. 144)\n",
    "### Complexity for generating cache 2D array using knapsack_iterative() version = [$O(n * C)$]\n",
    "### Complexity for reconstruction = [$O(n)$]\n",
    "### Total Complexity = [$O(n * C)$] (n: No.of Values, C: Knapsack Capacity)\n",
    "#### ( Ignored [$O(n)$] as [$O(n)$] < [$O(n * C)$] )"
   ]
  },
  {
   "cell_type": "code",
   "execution_count": 5,
   "metadata": {},
   "outputs": [],
   "source": [
    "def knapsack_reconstruction(arr, cap):\n",
    "    def knapsack_iterative():\n",
    "        for i in range(1, len(arr)+1, 1):\n",
    "            cache.append([])\n",
    "            for j in range(cap+1):\n",
    "                if arr[i-1][1] > j:\n",
    "                    cache[i].append(cache[i-1][j])\n",
    "                else:\n",
    "                    cache[i].append(max(cache[i-1][j], cache[i-1][j-arr[i-1][1]]+arr[i-1][0]))\n",
    "    cache = [[0 for i in range(cap+1)]]\n",
    "    values = []\n",
    "    knapsack_iterative()\n",
    "    j = cap\n",
    "    for i in range(len(cache)-1, 0, -1):\n",
    "# Instead of checking for condition in below if statement: cache[i][j] > cache[i-1][j], we can also check as below\n",
    "# Based on book Pg. No. 144 Knapsack Reconstruction, it checks for: cache[i-1][j-arr[i-1][1]]+arr[i-1][0] > cache[i-1][j]\n",
    "        # If the cache row (value) with some column (capacity) is greater than previous cache row (value) \n",
    "        # with same column (same capacity) then it means the current (i-1) array value is part of our maximum summation\n",
    "        if arr[i-1][1] <= j and cache[i][j] > cache[i-1][j]:\n",
    "            values.append(arr[i-1])\n",
    "            j = j-arr[i-1][1]\n",
    "    return values"
   ]
  },
  {
   "cell_type": "code",
   "execution_count": 20,
   "metadata": {},
   "outputs": [
    {
     "data": {
      "text/plain": [
       "[[4, 3], [4, 2]]"
      ]
     },
     "execution_count": 20,
     "metadata": {},
     "output_type": "execute_result"
    }
   ],
   "source": [
    "# Example from Pg. No. 137\n",
    "lst = [[3, 4], [2, 3], [4, 2], [4, 3]]\n",
    "knapsack_reconstruction(lst, 6)"
   ]
  },
  {
   "cell_type": "code",
   "execution_count": 6,
   "metadata": {},
   "outputs": [
    {
     "data": {
      "text/plain": [
       "[[6, 4], [5, 3], [4, 1], [8, 2]]"
      ]
     },
     "execution_count": 6,
     "metadata": {},
     "output_type": "execute_result"
    }
   ],
   "source": [
    "# Own Example\n",
    "lst = [[1, 3], [5, 7], [8, 2], [4, 1], [3, 7], [5, 3], [1, 1], [6, 4]]\n",
    "knapsack_reconstruction(lst, 10)"
   ]
  },
  {
   "cell_type": "markdown",
   "metadata": {},
   "source": [
    "## Needleman–Wunsch algorithm for String Sequence Problem\n",
    "#### (Based on Explanation from Pg. No. 158)\n",
    "### Complexity - [$O(m * n)$] (m: Length of first string, n: Length of second string)"
   ]
  },
  {
   "cell_type": "code",
   "execution_count": 43,
   "metadata": {},
   "outputs": [],
   "source": [
    "def nw_string(s1, s2, alpXY, alpGap):\n",
    "    cache = [[j*alpGap for j in range(len(s2)+1)]]\n",
    "    for i in range(1, len(s1)+1):\n",
    "        cache.append([i*alpGap])\n",
    "    for i in range(1, len(s1)+1):\n",
    "        for j in range(1, len(s2)+1):\n",
    "            curalpXY = alpXY if s1[i-1] != s2[j-1] else 0                \n",
    "            curMin = min(cache[i-1][j-1]+curalpXY, cache[i-1][j]+alpGap, cache[i][j-1]+alpGap)\n",
    "            cache[i].append(curMin)\n",
    "    return cache[-1][-1]  "
   ]
  },
  {
   "cell_type": "code",
   "execution_count": 44,
   "metadata": {},
   "outputs": [
    {
     "data": {
      "text/plain": [
       "3"
      ]
     },
     "execution_count": 44,
     "metadata": {},
     "output_type": "execute_result"
    }
   ],
   "source": [
    "# Example from Pg. No. 151 (Problem Definition)\n",
    "nw_string('AGGGCT', 'AGGCA', 2, 1)"
   ]
  },
  {
   "cell_type": "code",
   "execution_count": 29,
   "metadata": {},
   "outputs": [
    {
     "data": {
      "text/plain": [
       "4"
      ]
     },
     "execution_count": 29,
     "metadata": {},
     "output_type": "execute_result"
    }
   ],
   "source": [
    "# Example from Pg. No. 152 (Quiz 17.1)\n",
    "nw_string('AGTACG', 'ACATAG', 2, 1)"
   ]
  },
  {
   "cell_type": "code",
   "execution_count": 34,
   "metadata": {},
   "outputs": [
    {
     "data": {
      "text/plain": [
       "224"
      ]
     },
     "execution_count": 34,
     "metadata": {},
     "output_type": "execute_result"
    }
   ],
   "source": [
    "# test case from http://www.algorithmsilluminated.com/datasets/problem17.8nw.txt\n",
    "x = 'ACACATGCATCATGACTATGCATGCATGACTGACTGCATGCATGCATCCATCATGCATGCATCGATGCATGCATGACCACCTGTGTGACACATGCATGCGTGTGACATGCGAGACTCACTAGCGATGCATGCATGCATGCATGCATGC'\n",
    "y = 'ATGATCATGCATGCATGCATCACACTGTGCATCAGAGAGAGCTCTCAGCAGACCACACACACGTGTGCAGAGAGCATGCATGCATGCATGCATGCATGGTAGCTGCATGCTATGAGCATGCAG'\n",
    "nw_string(x, y, 5, 4)"
   ]
  },
  {
   "cell_type": "markdown",
   "metadata": {},
   "source": [
    "## Needleman–Wunsch Reconstruction algorithm for String Sequence Problem\n",
    "#### (Own Implementation)\n",
    "### Complexity - [$O(m * n)$] (m: Length of first string, n: Length of second string)"
   ]
  },
  {
   "cell_type": "code",
   "execution_count": 41,
   "metadata": {},
   "outputs": [],
   "source": [
    "def nw_string_reconstruction(s1, s2, alpXY, alpGap):\n",
    "    def nw_string():\n",
    "        for i in range(1, len(s1)+1):\n",
    "            for j in range(1, len(s2)+1):\n",
    "                curalpXY = alpXY if s1[i-1] != s2[j-1] else 0                \n",
    "                curMin = min(cache[i-1][j-1]+curalpXY, cache[i-1][j]+alpGap, cache[i][j-1]+alpGap)\n",
    "                cache[i].append(curMin)\n",
    "    cache = [[j*alpGap for j in range(len(s2)+1)]]\n",
    "    for i in range(1, len(s1)+1):\n",
    "        cache.append([i*alpGap])\n",
    "    nw_string()\n",
    "    values_s1 = []\n",
    "    values_s2 = []\n",
    "    i = len(s1)\n",
    "    j = len(s2)\n",
    "    while i >= 1 and j >= 1:\n",
    "        curalpXY = alpXY if s1[i-1] != s2[j-1] else 0\n",
    "        t1 = cache[i-1][j-1]+curalpXY\n",
    "        t2 = cache[i-1][j]+alpGap\n",
    "        t3 = cache[i][j-1]+alpGap\n",
    "        temp = min(t1, t2, t3)\n",
    "        if temp == t1:\n",
    "            values_s1.append(s1[i-1])\n",
    "            values_s2.append(s2[j-1])\n",
    "            i = i-1\n",
    "            j = j-1\n",
    "        elif temp == t2:\n",
    "            values_s1.append(s1[i-1])\n",
    "            values_s2.append('_')\n",
    "            i = i-1\n",
    "        else: # temp == t3\n",
    "            values_s1.append('_')\n",
    "            values_s2.append(s2[j-1])\n",
    "            j = j-1\n",
    "    return values_s1[::-1], values_s2[::-1]"
   ]
  },
  {
   "cell_type": "code",
   "execution_count": 42,
   "metadata": {},
   "outputs": [
    {
     "name": "stdout",
     "output_type": "stream",
     "text": [
      "['A', 'G', 'G', 'G', 'C', 'T']\n",
      "['A', '_', 'G', 'G', 'C', 'A']\n"
     ]
    }
   ],
   "source": [
    "# Example from Pg. No. 151 (Problem Definition)\n",
    "nw_string_reconstruction('AGGGCT', 'AGGCA', 2, 1)"
   ]
  },
  {
   "cell_type": "code",
   "execution_count": 45,
   "metadata": {},
   "outputs": [
    {
     "name": "stdout",
     "output_type": "stream",
     "text": [
      "['A', '_', 'G', 'T', 'A', 'C', 'G']\n",
      "['A', 'C', 'A', 'T', 'A', '_', 'G']\n"
     ]
    }
   ],
   "source": [
    "# Example from Pg. No. 152 (Quiz 17.1)\n",
    "nw_string_reconstruction('AGTACG', 'ACATAG', 2, 1)"
   ]
  },
  {
   "cell_type": "markdown",
   "metadata": {},
   "source": [
    "## Dependency - Binary Search Trees (From Algorithms Illuminated Part 2)"
   ]
  },
  {
   "cell_type": "code",
   "execution_count": 2,
   "metadata": {},
   "outputs": [],
   "source": [
    "class SearchTree():\n",
    "    def __init__(self):\n",
    "        self.arr = []\n",
    "        \n",
    "#   This function inserts an element into Search Tree as you enter the key.\n",
    "#   The first entered element is considered as root node and \n",
    "#   all the next elements are placed appropriately to maintain the property of Search Tree\n",
    "    def insert(self, ele):\n",
    "        if self.arr:\n",
    "            i = 0\n",
    "            while True:\n",
    "                if ele <= self.arr[i][0]:\n",
    "                    if self.arr[i][1][1] == 'Null':\n",
    "                        self.arr.append([ele, [i, 'Null', 'Null']])\n",
    "                        self.arr[i][1][1] = len(self.arr)-1\n",
    "                        break\n",
    "                    else:\n",
    "                        i = self.arr[i][1][1]\n",
    "                else:\n",
    "                    if self.arr[i][1][2] == 'Null':\n",
    "                        self.arr.append([ele, [i, 'Null', 'Null']])\n",
    "                        self.arr[i][1][2] = len(self.arr)-1\n",
    "                        break\n",
    "                    else:\n",
    "                        i = self.arr[i][1][2]\n",
    "        else:\n",
    "            self.arr.append([ele, ['Null', 'Null', 'Null']])\n",
    "\n",
    "#   This function return the Saecrh Tree (array)\n",
    "    def access_array(self):\n",
    "        return self.arr\n",
    "\n",
    "#   Returns the length of the Search Tree == No.of elements in Search Tree\n",
    "    def length(self):\n",
    "        return len(self.arr)\n",
    "    \n",
    "#   This function searches for the instances of the given key and returns index of the key if found\n",
    "#   If multiple instances are available, it returns all the indices of these muliple instances\n",
    "    def search(self, ele, node_idx=0):\n",
    "        if node_idx == 'Null':\n",
    "            return 'Not Found'\n",
    "        search_element_idx = []\n",
    "        i = node_idx\n",
    "        if ele == self.arr[i][0]:\n",
    "            search_element_idx.append(i)\n",
    "            rslt = self.search(ele, node_idx=self.arr[i][1][1])\n",
    "            if rslt != 'Not Found':\n",
    "                for idx in rslt:\n",
    "                    search_element_idx.append(idx)\n",
    "            return search_element_idx\n",
    "        elif ele < self.arr[i][0]:\n",
    "            return self.search(ele, node_idx=self.arr[i][1][1])\n",
    "        else: # ele > self.arr[i][0]\n",
    "            return self.search(ele, node_idx=self.arr[i][1][2])\n",
    "\n",
    "#   Returns the minimum element of the Search Tree\n",
    "    def minimum(self, node_idx=0):\n",
    "        i = node_idx\n",
    "        if self.arr[i][1][1] == 'Null':\n",
    "            return self.arr[i][0]\n",
    "        return self.minimum(self.arr[i][1][1])\n",
    "    \n",
    "#   Returns the maximum element of the Search Tree\n",
    "    def maximum(self, node_idx=0):\n",
    "        i = node_idx\n",
    "        if self.arr[i][1][2] == 'Null':\n",
    "            return self.arr[i][0]\n",
    "        return self.maximum(self.arr[i][1][2])\n",
    "\n",
    "#   Returns the predecessor of the given key\n",
    "    def predecessor(self, ele, node_idx=0):\n",
    "        idx = node_idx\n",
    "        if node_idx == 0:\n",
    "            idx = self.search(ele)\n",
    "            rslt = []\n",
    "            for i in idx:\n",
    "                if i == 0:\n",
    "                    rslt.append(self.maximum(node_idx=self.arr[i][1][1]))\n",
    "                    continue\n",
    "                rslt.append(self.predecessor(ele, node_idx=i))\n",
    "            rslt = [item if type(item) != str else float('inf') for item in rslt]\n",
    "            predecessor_ele = min(rslt) if min(rslt) != float('inf') else 'No Predecessor Available'\n",
    "            return predecessor_ele\n",
    "        parent_node = self.arr[idx][1][0]\n",
    "        left_node = self.arr[idx][1][1]\n",
    "        right_node = self.arr[idx][1][2]\n",
    "        parents_parent = self.arr[parent_node][1][0]\n",
    "        if left_node != 'Null':\n",
    "            return self.maximum(node_idx=left_node)\n",
    "        elif parent_node != 'Null' and self.arr[parent_node][1][2] == idx:\n",
    "            return self.arr[parent_node][0]\n",
    "        elif (parent_node != 'Null' and self.arr[parent_node][1][1] == idx and \n",
    "              parents_parent != 'Null' and self.arr[parents_parent][1][2] == parent_node):\n",
    "            return self.arr[parents_parent][0]\n",
    "        else:\n",
    "            return 'No Predecessor Available'\n",
    "\n",
    "#   Returns the successor of the given key\n",
    "    def successor(self, ele, node_idx=0):\n",
    "        idx = node_idx\n",
    "        if node_idx == 0:\n",
    "            idx = self.search(ele)\n",
    "            rslt = []\n",
    "            for i in idx:\n",
    "                if i == 0:\n",
    "                    rslt.append(self.minimum(node_idx=self.arr[i][1][2]))\n",
    "                    continue\n",
    "                rslt.append(self.successor(ele, node_idx=i))\n",
    "            rslt = [item if type(item) != str else float('-inf') for item in rslt]\n",
    "            successor_ele = max(rslt) if max(rslt) != float('-inf') else 'No Successor Available'            \n",
    "            return successor_ele\n",
    "        parent_node = self.arr[idx][1][0]\n",
    "        left_node = self.arr[idx][1][1]\n",
    "        right_node = self.arr[idx][1][2]\n",
    "        parents_parent = self.arr[parent_node][1][0]\n",
    "        if right_node != 'Null':\n",
    "            return self.minimum(node_idx=right_node)\n",
    "        elif parent_node != 'Null' and self.arr[parent_node][1][1] == idx:\n",
    "            return self.arr[parent_node][0]\n",
    "        elif (parent_node != 'Null' and self.arr[parent_node][1][2] == idx and \n",
    "              parents_parent != 'Null' and self.arr[parents_parent][1][1] == parent_node):\n",
    "            return self.arr[parents_parent][0]\n",
    "        else:\n",
    "            return 'No Successor Available'\n",
    "\n",
    "#   Dispolay all the elements of Search Tree in a sorted order\n",
    "    def outputsorted(self, node_idx=0):\n",
    "        idx = node_idx\n",
    "        left_node = self.arr[idx][1][1]\n",
    "        right_node = self.arr[idx][1][2]\n",
    "        left_value = self.outputsorted(node_idx=left_node) if left_node != 'Null' else []\n",
    "        parent_value = [self.arr[idx][0]]\n",
    "        right_value = self.outputsorted(node_idx=right_node) if right_node != 'Null' else []\n",
    "        return left_value + parent_value + right_value\n",
    "            \n",
    "#   Select: Given a key, Returns index of that key. If multiple instances found return smallest index\n",
    "    def select(self, ele):\n",
    "        index = self.search(ele)\n",
    "        return min(index)\n",
    "    \n",
    "#   This function appends size of each node to their respective subarray.\n",
    "#   For example, after updating size the node array looks like [1, [0, 5, 4], 8]\n",
    "#   From above, 1 indicates node value. [0, 5, 4] indicates indices of parent node, left node and right node of node value 1\n",
    "#   Last term, 8 indicates size of the node\n",
    "#   meaning how many elements are there in the subtree starting from node value 1 (inclduing itself)\n",
    "    def size(self, node_idx=0):\n",
    "        idx = node_idx\n",
    "        if idx == 'Null':\n",
    "            return 0\n",
    "        left_node = self.arr[idx][1][1]\n",
    "        right_node = self.arr[idx][1][2]\n",
    "        left = self.size(node_idx=left_node)\n",
    "        current_node = 1\n",
    "        right = self.size(node_idx=right_node)\n",
    "        total_size = left + current_node + right\n",
    "        if len(self.arr[idx]) == 2:\n",
    "            self.arr[idx].append(total_size)\n",
    "        elif len(self.arr[idx]) == 3:\n",
    "            self.arr[idx][2] = total_size\n",
    "        return total_size if idx != 0 else None\n",
    "    \n",
    "#   Select: Given i for ith_smallest element, Returns value of the instance.\n",
    "    def select_book_version(self, ith_smallest, node_idx=None):\n",
    "        if node_idx == 'Null':\n",
    "            raise IndexError('ith samllest element is out of bound')\n",
    "        node_idx = 0 if not node_idx else node_idx\n",
    "        left_node = self.arr[node_idx][1][1]\n",
    "        right_node = self.arr[node_idx][1][2]\n",
    "        left_subtree_size = self.arr[left_node][2] if left_node != 'Null' else 0\n",
    "        if ith_smallest == left_subtree_size+1:\n",
    "            rslt = self.arr[node_idx]\n",
    "        elif ith_smallest < left_subtree_size+1:\n",
    "            rslt = self.select_book_version(ith_smallest, node_idx=left_node)\n",
    "        else: # ith_smallest > left_subtree_size+1\n",
    "            rslt = self.select_book_version(ith_smallest-(left_subtree_size+1), node_idx=right_node)\n",
    "        return rslt\n",
    "    \n",
    "\n",
    "# This method is useful for modifying the elements and their parent, left and right child indices so that\n",
    "# we can delete that particular element which wants to be deleted without any future dependencies on this element\n",
    "# Thus, for removing these dependencies on deleting element we need to perform modifications\n",
    "    def modifications_after_deletion(self, index, node_idx=0):\n",
    "        idx = node_idx\n",
    "        if idx == 'Null':\n",
    "            return\n",
    "        left_node = self.arr[idx][1][1]\n",
    "        right_node = self.arr[idx][1][2]\n",
    "        self.modifications_after_deletion(index, node_idx=left_node)\n",
    "        self.modifications_after_deletion(index, node_idx=right_node)\n",
    "        if idx > index:\n",
    "#           Decrementing Parent Node index\n",
    "            if self.arr[idx][1][0] > index:\n",
    "                self.arr[idx][1][0] -= 1\n",
    "#           Decrementing left node index\n",
    "            if self.arr[idx][1][1] != 'Null':\n",
    "                self.arr[idx][1][1] -= 1 \n",
    "#           Decrementing right node index\n",
    "            if self.arr[idx][1][2] != 'Null':\n",
    "                self.arr[idx][1][2] -= 1\n",
    "        elif idx < index: # if any node < index and it's left node or right node > index, \n",
    "#                           we need to decrement it's respective left and right node indices\n",
    "            if self.arr[idx][1][1] != 'Null' and self.arr[idx][1][1] > index:\n",
    "                self.arr[idx][1][1] -= 1\n",
    "            if self.arr[idx][1][2] != 'Null' and self.arr[idx][1][2] > index:\n",
    "                self.arr[idx][1][2] -= 1\n",
    "\n",
    "                \n",
    "#   Deletes the element 'ele'; If multiple instances of 'ele' is present we will delete the element whose index is maximum.\n",
    "#   All of this is done only if we don't pass node_idx(and takes default value 'None'). If we pass node_idx then that particular\n",
    "#   node would be deleted irrespective of key 'ele'\n",
    "    def delete(self, ele, node_idx=None):\n",
    "        #   Returns the maximum element of the Search Tree\n",
    "        def maximum(node_idx=0):\n",
    "            i = node_idx\n",
    "            if self.arr[i][1][2] == 'Null':\n",
    "                return [i, self.arr[i][0]]\n",
    "            return maximum(self.arr[i][1][2])\n",
    "        idx = max(self.search(ele)) if not node_idx else node_idx\n",
    "        parent_node = self.arr[idx][1][0]\n",
    "        left_node = self.arr[idx][1][1]\n",
    "        right_node = self.arr[idx][1][2]\n",
    "        if left_node == 'Null' and right_node == 'Null':\n",
    "            if self.arr[idx][0] > self.arr[parent_node][0]: # If it's right node\n",
    "                self.arr[parent_node][1][2] = 'Null'\n",
    "            else: # self.arr[idx][0] <= self.arr[parent_node][0] # If it's left node\n",
    "                self.arr[parent_node][1][1] = 'Null'\n",
    "            self.modifications_after_deletion(idx)\n",
    "            self.arr.pop(idx)\n",
    "        elif left_node != 'Null' and right_node == 'Null':\n",
    "            self.arr[left_node][1][0] = self.arr[idx][1][0]\n",
    "            if self.arr[parent_node][1][1] == idx:\n",
    "                self.arr[parent_node][1][1] = self.arr[idx][1][1]\n",
    "            elif self.arr[parent_node][1][2] == idx:\n",
    "                self.arr[parent_node][1][2] = self.arr[idx][1][1]\n",
    "            self.modifications_after_deletion(idx)\n",
    "            self.arr.pop(idx)            \n",
    "        elif left_node == 'Null' and right_node != 'Null':\n",
    "            self.arr[right_node][1][0] = self.arr[idx][1][0]\n",
    "            if self.arr[parent_node][1][1] == idx:\n",
    "                self.arr[parent_node][1][1] = self.arr[idx][1][2]\n",
    "            elif self.arr[parent_node][1][2] == idx:\n",
    "                self.arr[parent_node][1][2] = self.arr[idx][1][2]\n",
    "            self.modifications_after_deletion(idx)\n",
    "            self.arr.pop(idx)\n",
    "        else: # left_node != 'Null' and right_node != 'Null'\n",
    "            max_ele = maximum(node_idx=left_node)\n",
    "            max_idx = max_ele[0]\n",
    "            self.arr[idx], self.arr[max_idx] = self.arr[max_idx], self.arr[idx]\n",
    "            self.arr[idx][1], self.arr[max_idx][1] = self.arr[max_idx][1], self.arr[idx][1]\n",
    "            self.delete(self.arr[max_idx][0], node_idx=max_idx)"
   ]
  },
  {
   "cell_type": "markdown",
   "metadata": {},
   "source": [
    "## Optimal Binary Search Tree Implementation using Dynamic Programming\n",
    "### Based on Implementation from [Youtube Tutorial](https://www.youtube.com/playlist?list=PL4IH6CVPpTZUwOOyNioJgPnDOnOYO0MO9)\n",
    "### Complexity = [$O(n^{3})$] (n: no.of keys or values in the passed array)"
   ]
  },
  {
   "cell_type": "code",
   "execution_count": 20,
   "metadata": {},
   "outputs": [],
   "source": [
    "def optimal_bst(arr):\n",
    "    cache = [[0 for j in range(len(arr)+1)] for i in range(len(arr)+2)]\n",
    "    index_root_table = [[0 for j in range(len(arr)+1)] for i in range(len(arr)+2)]\n",
    "    for i in range(1, len(cache)-1):\n",
    "        cache[i][i] = arr[i-1][1]\n",
    "        # index_root_table has the key number from 1 - len(arr) == 0 - len(arr)-1 indexes of array arr\n",
    "        # To get the original key index in array we have to subtract 1 from the value in index_root_table\n",
    "        # So, Here index_root_table[i][i] has i as key number = arr[i-1] as key\n",
    "        index_root_table[i][i] = i\n",
    "    for d in range(1, len(arr)):\n",
    "        for i in range(1, len(arr)+1-d):\n",
    "            j = d+i\n",
    "            minVal = float('Inf')\n",
    "            rootKey = -1\n",
    "            additionalCost = 0\n",
    "            for l in range(i, j+1):\n",
    "                additionalCost += arr[l-1][1]\n",
    "                curVal = cache[i][l-1]+cache[l+1][j]\n",
    "                if curVal < minVal:\n",
    "                    minVal = curVal\n",
    "                    rootKey = l\n",
    "            cache[i][j] = minVal + additionalCost\n",
    "            # index_root_table has the key number from 1 - len(arr) == 0 - len(arr)-1 indexes of array arr\n",
    "            # To get the original key index in array we have to subtract 1 from the value in index_root_table\n",
    "            # So, Here index_root_table[i][j] has rootKey as key number = arr[rootKey-1] as key\n",
    "            index_root_table[i][j] = rootKey\n",
    "    reconstructedKeys = []\n",
    "# While reconstruction, its important to note that index_root_table has the key number from 1 - len(arr) == 0 - len(arr)-1 indexes of array arr\n",
    "    # To get the original key index in array we have to subtract 1 from the value in index_root_table\n",
    "    stack = [(index_root_table[1][len(arr)], 1, len(arr))]\n",
    "    while stack:\n",
    "        cur_root_idx, i, j = stack.pop()\n",
    "        reconstructedKeys.append(arr[cur_root_idx-1])\n",
    "        if cur_root_idx > i:\n",
    "            stack.append((index_root_table[i][cur_root_idx-1], i, cur_root_idx-1))\n",
    "        if cur_root_idx < j:\n",
    "            stack.append((index_root_table[cur_root_idx+1][j], cur_root_idx+1, j))\n",
    "    return reconstructedKeys[0], reconstructedKeys"
   ]
  },
  {
   "cell_type": "code",
   "execution_count": 21,
   "metadata": {},
   "outputs": [
    {
     "name": "stdout",
     "output_type": "stream",
     "text": [
      "Root Key = (3, 0.547)\n",
      "Pass these keys in-order to a Normal BST to generate optimal BST = [(3, 0.547), (5, 0.12), (4, 0.1), (1, 0.213), (2, 0.02)]\n"
     ]
    }
   ],
   "source": [
    "lst = [(1, .213), (2, .02), (3, .547), (4, .1), (5, .12)]\n",
    "rootKey, orderedKeys = optimal_bst(lst)\n",
    "print(\"Root Key = {}\\nPass these keys in-order to a Normal BST to generate optimal BST = {}\".format(rootKey, orderedKeys))"
   ]
  },
  {
   "cell_type": "code",
   "execution_count": 22,
   "metadata": {},
   "outputs": [
    {
     "name": "stdout",
     "output_type": "stream",
     "text": [
      "Root Key = (35, 81)\n",
      "Pass these keys in-order to a Normal BST to generate optimal BST = [(35, 81), (43, 42), (45, 51), (46, 21), (48, 6), (50, 7), (49, 5), (47, 8), (44, 8), (40, 24), (42, 18), (41, 12), (36, 37), (37, 15), (39, 8), (38, 6), (23, 60), (30, 76), (31, 21), (33, 8), (34, 1), (32, 6), (27, 34), (29, 31), (28, 11), (26, 7), (24, 5), (25, 2), (18, 63), (20, 9), (21, 10), (22, 1), (19, 2), (7, 8), (12, 6), (15, 6), (16, 7), (17, 4), (13, 3), (14, 2), (9, 6), (10, 1), (11, 1), (8, 3), (4, 5), (5, 5), (6, 2), (2, 8), (3, 2), (1, 2)]\n"
     ]
    }
   ],
   "source": [
    "test_case = [(1, 2), (2, 8), (3, 2), (4, 5), (5, 5), (6, 2), (7, 8), (8, 3), (9, 6), (10, 1), (11, 1), (12, 6), (13, 3), (14, 2), (15, 6), (16, 7), (17, 4), (18, 63), (19, 2), (20, 9), (21, 10), (22, 1), (23, 60), (24, 5), (25, 2), (26, 7), (27, 34), (28, 11), (29, 31), (30, 76), (31, 21), (32, 6), (33, 8), (34, 1), (35, 81), (36, 37), (37, 15), (38, 6), (39, 8), (40, 24), (41, 12), (42, 18), (43, 42), (44, 8), (45, 51), (46, 21), (47, 8), (48, 6), (49, 5), (50, 7)]\n",
    "rootKey, orderedKeys = optimal_bst(test_case)\n",
    "print(\"Root Key = {}\\nPass these keys in-order to a Normal BST to generate optimal BST = {}\".format(rootKey, orderedKeys))"
   ]
  },
  {
   "cell_type": "code",
   "execution_count": 23,
   "metadata": {},
   "outputs": [
    {
     "data": {
      "text/plain": [
       "[[3, ['Null', 3, 1]],\n",
       " [5, [0, 2, 'Null']],\n",
       " [4, [1, 'Null', 'Null']],\n",
       " [1, [0, 'Null', 4]],\n",
       " [2, [3, 'Null', 'Null']]]"
      ]
     },
     "execution_count": 23,
     "metadata": {},
     "output_type": "execute_result"
    }
   ],
   "source": [
    "# Example from Youtube Tutorial: https://youtu.be/Xt8kuygspOk\n",
    "lst = [(1, .213), (2, .02), (3, .547), (4, .1), (5, .12)]\n",
    "rootKey, orderedKeys = optimal_bst(lst)\n",
    "keys = [ele[0] for ele in orderedKeys]\n",
    "\n",
    "st = SearchTree()\n",
    "for ele in keys:\n",
    "    st.insert(ele)\n",
    "st.access_array()"
   ]
  },
  {
   "cell_type": "code",
   "execution_count": 24,
   "metadata": {
    "scrolled": false
   },
   "outputs": [
    {
     "data": {
      "text/plain": [
       "[[35, ['Null', 16, 1]],\n",
       " [43, [0, 9, 2]],\n",
       " [45, [1, 8, 3]],\n",
       " [46, [2, 'Null', 4]],\n",
       " [48, [3, 7, 5]],\n",
       " [50, [4, 6, 'Null']],\n",
       " [49, [5, 'Null', 'Null']],\n",
       " [47, [4, 'Null', 'Null']],\n",
       " [44, [2, 'Null', 'Null']],\n",
       " [40, [1, 12, 10]],\n",
       " [42, [9, 11, 'Null']],\n",
       " [41, [10, 'Null', 'Null']],\n",
       " [36, [9, 'Null', 13]],\n",
       " [37, [12, 'Null', 14]],\n",
       " [39, [13, 15, 'Null']],\n",
       " [38, [14, 'Null', 'Null']],\n",
       " [23, [0, 28, 17]],\n",
       " [30, [16, 22, 18]],\n",
       " [31, [17, 'Null', 19]],\n",
       " [33, [18, 21, 20]],\n",
       " [34, [19, 'Null', 'Null']],\n",
       " [32, [19, 'Null', 'Null']],\n",
       " [27, [17, 25, 23]],\n",
       " [29, [22, 24, 'Null']],\n",
       " [28, [23, 'Null', 'Null']],\n",
       " [26, [22, 26, 'Null']],\n",
       " [24, [25, 'Null', 27]],\n",
       " [25, [26, 'Null', 'Null']],\n",
       " [18, [16, 33, 29]],\n",
       " [20, [28, 32, 30]],\n",
       " [21, [29, 'Null', 31]],\n",
       " [22, [30, 'Null', 'Null']],\n",
       " [19, [29, 'Null', 'Null']],\n",
       " [7, [28, 44, 34]],\n",
       " [12, [33, 40, 35]],\n",
       " [15, [34, 38, 36]],\n",
       " [16, [35, 'Null', 37]],\n",
       " [17, [36, 'Null', 'Null']],\n",
       " [13, [35, 'Null', 39]],\n",
       " [14, [38, 'Null', 'Null']],\n",
       " [9, [34, 43, 41]],\n",
       " [10, [40, 'Null', 42]],\n",
       " [11, [41, 'Null', 'Null']],\n",
       " [8, [40, 'Null', 'Null']],\n",
       " [4, [33, 47, 45]],\n",
       " [5, [44, 'Null', 46]],\n",
       " [6, [45, 'Null', 'Null']],\n",
       " [2, [44, 49, 48]],\n",
       " [3, [47, 'Null', 'Null']],\n",
       " [1, [47, 'Null', 'Null']]]"
      ]
     },
     "execution_count": 24,
     "metadata": {},
     "output_type": "execute_result"
    }
   ],
   "source": [
    "# Test Case from: http://www.algorithmsilluminated.com/datasets/problem17.8optbst.txt\n",
    "test_case = [(1, 2), (2, 8), (3, 2), (4, 5), (5, 5), (6, 2), (7, 8), (8, 3), (9, 6), (10, 1), (11, 1), (12, 6), (13, 3), (14, 2), (15, 6), (16, 7), (17, 4), (18, 63), (19, 2), (20, 9), (21, 10), (22, 1), (23, 60), (24, 5), (25, 2), (26, 7), (27, 34), (28, 11), (29, 31), (30, 76), (31, 21), (32, 6), (33, 8), (34, 1), (35, 81), (36, 37), (37, 15), (38, 6), (39, 8), (40, 24), (41, 12), (42, 18), (43, 42), (44, 8), (45, 51), (46, 21), (47, 8), (48, 6), (49, 5), (50, 7)]\n",
    "rootKey, orderedKeys = optimal_bst(test_case)\n",
    "keys = [ele[0] for ele in orderedKeys]\n",
    "\n",
    "st = SearchTree()\n",
    "for ele in keys:\n",
    "    st.insert(ele)\n",
    "st.access_array()"
   ]
  },
  {
   "cell_type": "markdown",
   "metadata": {},
   "source": [
    "## Bellman-Ford Algorithm for finding Shortest-Path of Graphs with Negative edge weights\n",
    "#### Based on Explanantion from Pg. No. 192; Also Refer to [MIT Tutorial on Bellman-Ford](https://youtu.be/ozsuci5pIso)\n",
    "### Complexity = [$O(Edges * Vertices)$]\n",
    "#### As Edges for a fully connected graph can be of $\\frac{(Vertices * (Vetices-1))}{2}$, leading to a total Complexity of [$O((Vertices)^{3})$] which is a polynomial complexity"
   ]
  },
  {
   "cell_type": "code",
   "execution_count": 44,
   "metadata": {},
   "outputs": [],
   "source": [
    "def bellman_ford_shortest_path(graph, source):\n",
    "    keys = list(graph.keys())\n",
    "    index_keys = {}\n",
    "    for i in range(len(keys)):\n",
    "        index_keys[keys[i]] = i\n",
    "    cache = [[float('Inf') if key != source else 0 for key in keys]]\n",
    "    for i in range(1, len(keys)+1):\n",
    "        cache.append([])\n",
    "        stable = True\n",
    "        for j in range(len(keys)):\n",
    "            temp = [float('Inf')] # Inf is added to temp just to make sure there is no empty sequence\n",
    "            for key in keys:\n",
    "                if keys[j] in graph[key][0]:\n",
    "                    temp.append(cache[i-1][index_keys[key]]+graph[key][0][keys[j]])\n",
    "            cache[i].append(min(cache[i-1][j], min(temp)))\n",
    "            if cache[i][j] != cache[i-1][j]:\n",
    "                stable = False\n",
    "        if stable == True:\n",
    "            distances = []\n",
    "            for k in range(len(keys)):\n",
    "                distances.append((source, keys[k], cache[i-1][k]))\n",
    "            return distances\n",
    "    return 'Negative Cycle'"
   ]
  },
  {
   "cell_type": "code",
   "execution_count": 39,
   "metadata": {},
   "outputs": [
    {
     "data": {
      "text/plain": [
       "[('s', 's', 0), ('s', 'v', 1), ('s', 't', -4)]"
      ]
     },
     "execution_count": 39,
     "metadata": {},
     "output_type": "execute_result"
    }
   ],
   "source": [
    "# Example from Page No. 181\n",
    "edges = [('s', 'v', 1), ('v', 't', -5), ('s', 't', -2)]\n",
    "grph = Graph()\n",
    "for item in edges:\n",
    "    grph.addEdge(item)\n",
    "graph = grph.copy()\n",
    "\n",
    "bellman_ford_shortest_path(graph, 's')"
   ]
  },
  {
   "cell_type": "code",
   "execution_count": 40,
   "metadata": {},
   "outputs": [
    {
     "data": {
      "text/plain": [
       "'Negative Cycle'"
      ]
     },
     "execution_count": 40,
     "metadata": {},
     "output_type": "execute_result"
    }
   ],
   "source": [
    "# Example from Page No. 182\n",
    "edges = [('s', 'v', 10), ('v', 'u', -4), ('u', 'w', 3), ('w', 'x', -5), ('x', 'v', 4)]\n",
    "grph = Graph()\n",
    "for item in edges:\n",
    "    grph.addEdge(item)\n",
    "graph = grph.copy()\n",
    "\n",
    "bellman_ford_shortest_path(graph, 's')"
   ]
  },
  {
   "cell_type": "code",
   "execution_count": 45,
   "metadata": {},
   "outputs": [
    {
     "data": {
      "text/plain": [
       "[('s', 's', 0), ('s', 'v', 1), ('s', 'u', 2), ('s', 't', 5), ('s', 'w', 4)]"
      ]
     },
     "execution_count": 45,
     "metadata": {},
     "output_type": "execute_result"
    }
   ],
   "source": [
    "# Example from Page No. 193\n",
    "edges = [('s', 'v', 4), ('s', 'u', 2), ('u', 'v', -1), ('v', 't', 4), ('u', 'w', 2), ('w', 't', 2)]\n",
    "grph = Graph()\n",
    "for item in edges:\n",
    "    grph.addEdge(item)\n",
    "graph = grph.copy()\n",
    "\n",
    "bellman_ford_shortest_path(graph, 's')"
   ]
  },
  {
   "cell_type": "markdown",
   "metadata": {},
   "source": [
    "## Floyd-Warshall Algorithm for finding All-Pairs Shortest Paths with 2D Array as Cache (i.e. Shortest Paths from each vertex to each other vertex)\n",
    "### Implementation is based on [Abdul Badari Youtube Video](https://youtu.be/oNI0rf2P9gE)\n",
    "### Complexity = [$O((Vertices)^{3})$] which is a polynomial complexity"
   ]
  },
  {
   "cell_type": "code",
   "execution_count": 33,
   "metadata": {},
   "outputs": [],
   "source": [
    "def floyd_warshall(graph):\n",
    "    keys = list(graph.keys())\n",
    "    index_keys = {}\n",
    "    for i in range(len(keys)):\n",
    "        index_keys[keys[i]] = i\n",
    "    cache = []\n",
    "    for i in range(len(keys)):\n",
    "        cache.append([])\n",
    "        for j in range(len(keys)):\n",
    "            if i == j:\n",
    "                cache[i].append(0)\n",
    "            elif keys[j] in graph[keys[i]][0]:\n",
    "                cache[i].append(graph[keys[i]][0][keys[j]])\n",
    "            else:\n",
    "                cache[i].append(float('Inf'))\n",
    "    for k in range(len(keys)):\n",
    "        for i in range(len(keys)):\n",
    "            if i == k:\n",
    "                continue\n",
    "            for j in range(len(keys)):\n",
    "                if j == k:\n",
    "                    continue\n",
    "                cache[i][j] = min(cache[i][j], cache[i][k]+cache[k][j])\n",
    "    for i in range(len(keys)):\n",
    "        if cache[i][i] < 0:\n",
    "            return 'Negative Cycle Found'\n",
    "    distances = []\n",
    "    for i in range(len(cache)):\n",
    "        for j in range(len(cache[0])):\n",
    "            if i == j: # s->s, dist = 0\n",
    "                continue\n",
    "            if cache[i][j] != float('Inf'):\n",
    "                distances.append((keys[i], keys[j], cache[i][j]))\n",
    "    return distances"
   ]
  },
  {
   "cell_type": "markdown",
   "metadata": {},
   "source": [
    "## Floyd-Warshall Algorithm Book Version with 3D Array as Cache\n",
    "#### (Based on Implementation from Pg. No. 206)\n",
    "### Complexity = [$O((Vertices)^{3})$] which is a polynomial complexity"
   ]
  },
  {
   "cell_type": "code",
   "execution_count": 34,
   "metadata": {},
   "outputs": [],
   "source": [
    "def floyd_warshall_book_version(graph):\n",
    "    keys = list(graph.keys())\n",
    "    cache = [[]]\n",
    "    for i in range(len(keys)):\n",
    "        cache[0].append([])\n",
    "        for j in range(len(keys)):\n",
    "            if i == j:\n",
    "                cache[0][i].append(0)\n",
    "            elif keys[j] in graph[keys[i]][0]:\n",
    "                cache[0][i].append(graph[keys[i]][0][keys[j]])\n",
    "            else:\n",
    "                cache[0][i].append(float('Inf'))\n",
    "    for k in range(1, len(keys)):\n",
    "        cache.append([])\n",
    "        for i in range(len(keys)):\n",
    "            cache[k].append([])\n",
    "            for j in range(len(keys)):\n",
    "                cache[k][i].append(min(cache[k-1][i][j], cache[k-1][i][k]+cache[k-1][k][j]))\n",
    "    for i in range(len(keys)):\n",
    "        if cache[len(keys)-1][i][i] < 0:\n",
    "            return 'Negative Cycle Found'\n",
    "    distances = []\n",
    "    for i in range(len(cache[-1])):\n",
    "        for j in range(len(cache[-1][0])):\n",
    "            if i == j: # s->s, dist = 0\n",
    "                continue\n",
    "            if cache[-1][i][j] != float('Inf'):\n",
    "                distances.append((keys[i], keys[j], cache[-1][i][j]))\n",
    "    return distances"
   ]
  },
  {
   "cell_type": "code",
   "execution_count": 35,
   "metadata": {},
   "outputs": [
    {
     "name": "stdout",
     "output_type": "stream",
     "text": [
      "[('s', 'v', 1), ('s', 't', -4), ('v', 't', -5)]\n",
      "[('s', 'v', 1), ('s', 't', -4), ('v', 't', -5)]\n"
     ]
    }
   ],
   "source": [
    "# Example from Page No. 181\n",
    "edges = [('s', 'v', 1), ('v', 't', -5), ('s', 't', -2)]\n",
    "grph = Graph()\n",
    "for item in edges:\n",
    "    grph.addEdge(item)\n",
    "graph = grph.copy()\n",
    "\n",
    "print(floyd_warshall(graph))\n",
    "print(floyd_warshall_book_version(graph))"
   ]
  },
  {
   "cell_type": "code",
   "execution_count": 36,
   "metadata": {},
   "outputs": [
    {
     "name": "stdout",
     "output_type": "stream",
     "text": [
      "Negative Cycle Found\n",
      "Negative Cycle Found\n"
     ]
    }
   ],
   "source": [
    "# Example from Page No. 182\n",
    "edges = [('s', 'v', 10), ('v', 'u', -4), ('u', 'w', 3), ('w', 'x', -5), ('x', 'v', 4)]\n",
    "grph = Graph()\n",
    "for item in edges:\n",
    "    grph.addEdge(item)\n",
    "graph = grph.copy()\n",
    "\n",
    "print(floyd_warshall(graph))\n",
    "print(floyd_warshall_book_version(graph))"
   ]
  },
  {
   "cell_type": "code",
   "execution_count": 37,
   "metadata": {},
   "outputs": [
    {
     "name": "stdout",
     "output_type": "stream",
     "text": [
      "[('s', 'v', 1), ('s', 'u', 2), ('s', 't', 5), ('s', 'w', 4), ('v', 't', 4), ('u', 'v', -1), ('u', 't', 3), ('u', 'w', 2), ('w', 't', 2)]\n",
      "[('s', 'v', 1), ('s', 'u', 2), ('s', 't', 5), ('s', 'w', 4), ('v', 't', 4), ('u', 'v', -1), ('u', 't', 3), ('u', 'w', 2), ('w', 't', 2)]\n"
     ]
    }
   ],
   "source": [
    "# Example from Page No. 193\n",
    "edges = [('s', 'v', 4), ('s', 'u', 2), ('u', 'v', -1), ('v', 't', 4), ('u', 'w', 2), ('w', 't', 2)]\n",
    "grph = Graph()\n",
    "for item in edges:\n",
    "    grph.addEdge(item)\n",
    "graph = grph.copy()\n",
    "\n",
    "print(floyd_warshall(graph))\n",
    "print(floyd_warshall_book_version(graph))"
   ]
  },
  {
   "cell_type": "code",
   "execution_count": 38,
   "metadata": {},
   "outputs": [
    {
     "name": "stdout",
     "output_type": "stream",
     "text": [
      "(2, 4, -2)\n"
     ]
    }
   ],
   "source": [
    "# test case 1: http://www.algorithmsilluminated.com/datasets/problem18.8test1.txt\n",
    "edges = [(1, 2, 2), (1, 5, 3), (2, 4, -2), (3, 1, 1), (4, 1, 4), (4, 3, 1), (4, 5, 2), (5, 3, -1)]\n",
    "grph = Graph()\n",
    "for item in edges:\n",
    "    grph.addEdge(item)\n",
    "graph = grph.copy()\n",
    "\n",
    "distances = floyd_warshall(graph)\n",
    "if type(distances) != str:\n",
    "    print(min(distances, key=lambda x: x[2]))\n",
    "else:\n",
    "    print(distances)"
   ]
  },
  {
   "cell_type": "code",
   "execution_count": 39,
   "metadata": {},
   "outputs": [
    {
     "name": "stdout",
     "output_type": "stream",
     "text": [
      "Negative Cycle Found\n"
     ]
    }
   ],
   "source": [
    "# test case 2: http://www.algorithmsilluminated.com/datasets/problem18.8test2.txt\n",
    "edges = [(1, 2, 2), (1, 5, 3), (2, 4, -2), (3, 1, 1), (4, 1, 4), (4, 3, 1), (4, 5, -1), (5, 3, -1)]\n",
    "grph = Graph()\n",
    "for item in edges:\n",
    "    grph.addEdge(item)\n",
    "graph = grph.copy()\n",
    "\n",
    "distances = floyd_warshall(graph)\n",
    "if type(distances) != str:\n",
    "    print(min(distances, key=lambda x: x[2]))\n",
    "else:\n",
    "    print(distances)"
   ]
  },
  {
   "cell_type": "code",
   "execution_count": null,
   "metadata": {},
   "outputs": [],
   "source": []
  }
 ],
 "metadata": {
  "kernelspec": {
   "display_name": "Python 3",
   "language": "python",
   "name": "python3"
  },
  "language_info": {
   "codemirror_mode": {
    "name": "ipython",
    "version": 3
   },
   "file_extension": ".py",
   "mimetype": "text/x-python",
   "name": "python",
   "nbconvert_exporter": "python",
   "pygments_lexer": "ipython3",
   "version": "3.7.5"
  }
 },
 "nbformat": 4,
 "nbformat_minor": 4
}
